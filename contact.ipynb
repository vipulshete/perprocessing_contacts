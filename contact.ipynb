{
 "cells": [
  {
   "cell_type": "code",
   "execution_count": 22,
   "metadata": {},
   "outputs": [
    {
     "data": {
      "text/plain": [
       "'\\n    @Author: Vipul Shete\\n    @Date: 2022-12-20\\n    @Last Modified by: Vipul Shete\\n    @Last Modified Date: 2022-12-20\\n    @Title : Cleaning of mobile and phone number in contact list (UC-1) .\\n'"
      ]
     },
     "execution_count": 22,
     "metadata": {},
     "output_type": "execute_result"
    }
   ],
   "source": [
    "\"\"\"\n",
    "    @Author: Vipul Shete\n",
    "    @Date: 2022-12-20\n",
    "    @Last Modified by: Vipul Shete\n",
    "    @Last Modified Date: 2022-12-20\n",
    "    @Title : Cleaning of mobile and phone number in contact list (UC-1) .\n",
    "\"\"\""
   ]
  },
  {
   "cell_type": "code",
   "execution_count": 1,
   "metadata": {},
   "outputs": [
    {
     "name": "stdout",
     "output_type": "stream",
     "text": [
      "22/12/20 21:07:03 WARN Utils: Your hostname, vipul-HP-Pavilion-Laptop-15-cs2xxx resolves to a loopback address: 127.0.1.1; using 192.168.43.246 instead (on interface wlx001ea63c098f)\n",
      "22/12/20 21:07:03 WARN Utils: Set SPARK_LOCAL_IP if you need to bind to another address\n",
      "22/12/20 21:07:04 WARN NativeCodeLoader: Unable to load native-hadoop library for your platform... using builtin-java classes where applicable\n"
     ]
    },
    {
     "name": "stderr",
     "output_type": "stream",
     "text": [
      "Setting default log level to \"WARN\".\n",
      "To adjust logging level use sc.setLogLevel(newLevel). For SparkR, use setLogLevel(newLevel).\n"
     ]
    },
    {
     "name": "stdout",
     "output_type": "stream",
     "text": [
      "22/12/20 21:07:07 WARN Utils: Service 'SparkUI' could not bind on port 4040. Attempting port 4041.\n"
     ]
    }
   ],
   "source": [
    "import pyspark\n",
    "from pyspark.sql import SparkSession\n",
    "from pyspark.sql import Row\n",
    "from pyspark import SparkContext\n",
    "from pyspark.sql.functions import concat, lit, col\n",
    "from pyspark.sql import SparkSession\n",
    "from pyspark.sql.types import StructType,StructField, StringType, IntegerType\n",
    "from pyspark.sql.types import *\n",
    "import pyspark.sql.functions as f\n",
    "from pyspark.sql.functions import col\n",
    "import uuid\n",
    "\n",
    "spark = SparkSession.builder.config(\"spark.jars\", \"/home/hdoop_new/CFP/AWS/CFP/aws/contact/MySqlJdbcDriver/mysql-connector-j-8.0.31.jar\") \\\n",
    "    .master(\"local\") \\\n",
    "    .appName(\"PySpark_MySQL_test3\") \\\n",
    "    .getOrCreate()\n",
    "\n",
    "sc=spark.sparkContext"
   ]
  },
  {
   "cell_type": "code",
   "execution_count": 2,
   "metadata": {},
   "outputs": [
    {
     "name": "stderr",
     "output_type": "stream",
     "text": [
      "                                                                                \r"
     ]
    }
   ],
   "source": [
    "data = spark.read.csv('contacts.csv', header=True)\n"
   ]
  },
  {
   "cell_type": "code",
   "execution_count": 3,
   "metadata": {},
   "outputs": [
    {
     "name": "stdout",
     "output_type": "stream",
     "text": [
      "+----------+---------+------+-----------+----------+--------------------+\n",
      "|first_name|last_name|  city|  mobile_no|  phone_no|               email|\n",
      "+----------+---------+------+-----------+----------+--------------------+\n",
      "|     vipul|    shete|  beed| 8484891290| 702085447|vipulshete@gmail.com|\n",
      "|   vaibhav|    shete|mumbai|70208524447|9665281201|vaibhavshete@gmai...|\n",
      "|       ram|   shinde|  beed|     569856|      null| ramshinde@gmail.com|\n",
      "|   shubham|    joshi|  pune| 1234567892|8484756892|   shubham@gmail.com|\n",
      "|   kailash|   jadhav|mumbai|       null|    598564|  pavanjad@gmail.com|\n",
      "|     pavan|    rasal|  beed| 8484895260|4311222265|  pavanjad@gmail.com|\n",
      "|      lisa|     dash|mumbai|    8569877|      null|  lisadash@gmail.com|\n",
      "|   tukaram|   shinde|  pune|       null|8484891290|   tukaram@gmail.com|\n",
      "|    smarth|    shete|mumbai| 8756987845|8484892448|    smarth@gmail.com|\n",
      "|     rahul|    shete|  pune|   56987568|      null|     rahul@gmail.com|\n",
      "|    vishal|    shete|  beed|       null|      null|    vishal@gmail.com|\n",
      "+----------+---------+------+-----------+----------+--------------------+\n",
      "\n"
     ]
    }
   ],
   "source": [
    "data.show()"
   ]
  },
  {
   "cell_type": "code",
   "execution_count": 4,
   "metadata": {},
   "outputs": [
    {
     "name": "stdout",
     "output_type": "stream",
     "text": [
      "+----------+---------+------+-----------+----------+--------------------+--------------+\n",
      "|first_name|last_name|  city|  mobile_no|  phone_no|               email|correct_mobile|\n",
      "+----------+---------+------+-----------+----------+--------------------+--------------+\n",
      "|     vipul|    shete|  beed| 8484891290| 702085447|vipulshete@gmail.com|          True|\n",
      "|   vaibhav|    shete|mumbai|70208524447|9665281201|vaibhavshete@gmai...|   70208524447|\n",
      "|       ram|   shinde|  beed|     569856|      null| ramshinde@gmail.com|        569856|\n",
      "|   shubham|    joshi|  pune| 1234567892|8484756892|   shubham@gmail.com|    1234567892|\n",
      "|   kailash|   jadhav|mumbai|       null|    598564|  pavanjad@gmail.com|          null|\n",
      "|     pavan|    rasal|  beed| 8484895260|4311222265|  pavanjad@gmail.com|          True|\n",
      "|      lisa|     dash|mumbai|    8569877|      null|  lisadash@gmail.com|       8569877|\n",
      "|   tukaram|   shinde|  pune|       null|8484891290|   tukaram@gmail.com|          null|\n",
      "|    smarth|    shete|mumbai| 8756987845|8484892448|    smarth@gmail.com|          True|\n",
      "|     rahul|    shete|  pune|   56987568|      null|     rahul@gmail.com|      56987568|\n",
      "|    vishal|    shete|  beed|       null|      null|    vishal@gmail.com|          null|\n",
      "+----------+---------+------+-----------+----------+--------------------+--------------+\n",
      "\n"
     ]
    }
   ],
   "source": [
    "mobile_no = data.select(\"*\", f.regexp_replace(f.col(\"mobile_no\"), \"[0/91]?[6789]{1}[0-9]{9}$\", \"True\").alias(\"correct_mobile\"))  \n",
    "mobile_no.show()"
   ]
  },
  {
   "cell_type": "code",
   "execution_count": 5,
   "metadata": {},
   "outputs": [
    {
     "name": "stdout",
     "output_type": "stream",
     "text": [
      "+----------+---------+------+----------+----------+--------------------+--------------+\n",
      "|first_name|last_name|  city| mobile_no|  phone_no|               email|correct_mobile|\n",
      "+----------+---------+------+----------+----------+--------------------+--------------+\n",
      "|     vipul|    shete|  beed|8484891290| 702085447|vipulshete@gmail.com|          True|\n",
      "|     pavan|    rasal|  beed|8484895260|4311222265|  pavanjad@gmail.com|          True|\n",
      "|    smarth|    shete|mumbai|8756987845|8484892448|    smarth@gmail.com|          True|\n",
      "+----------+---------+------+----------+----------+--------------------+--------------+\n",
      "\n"
     ]
    }
   ],
   "source": [
    "mobile_no_1 = mobile_no.filter(mobile_no.correct_mobile=='True')\n",
    "mobile_no_1.show()"
   ]
  },
  {
   "cell_type": "code",
   "execution_count": 6,
   "metadata": {},
   "outputs": [
    {
     "name": "stdout",
     "output_type": "stream",
     "text": [
      "+----------+---------+------+----------+--------------------+\n",
      "|first_name|last_name|  city| mobile_no|               email|\n",
      "+----------+---------+------+----------+--------------------+\n",
      "|     vipul|    shete|  beed|8484891290|vipulshete@gmail.com|\n",
      "|     pavan|    rasal|  beed|8484895260|  pavanjad@gmail.com|\n",
      "|    smarth|    shete|mumbai|8756987845|    smarth@gmail.com|\n",
      "+----------+---------+------+----------+--------------------+\n",
      "\n"
     ]
    }
   ],
   "source": [
    "validate_mobile = mobile_no_1.select('first_name', 'last_name', 'city', 'mobile_no', 'email')\n",
    "validate_mobile.show()"
   ]
  },
  {
   "cell_type": "code",
   "execution_count": 7,
   "metadata": {},
   "outputs": [
    {
     "name": "stdout",
     "output_type": "stream",
     "text": [
      "+----------+---------+------+----------+--------------------+\n",
      "|first_name|last_name|  city|  phone_no|               email|\n",
      "+----------+---------+------+----------+--------------------+\n",
      "|     vipul|    shete|  beed| 702085447|vipulshete@gmail.com|\n",
      "|   vaibhav|    shete|mumbai|9665281201|vaibhavshete@gmai...|\n",
      "|       ram|   shinde|  beed|      null| ramshinde@gmail.com|\n",
      "|   shubham|    joshi|  pune|8484756892|   shubham@gmail.com|\n",
      "|   kailash|   jadhav|mumbai|    598564|  pavanjad@gmail.com|\n",
      "|     pavan|    rasal|  beed|4311222265|  pavanjad@gmail.com|\n",
      "|      lisa|     dash|mumbai|      null|  lisadash@gmail.com|\n",
      "|   tukaram|   shinde|  pune|8484891290|   tukaram@gmail.com|\n",
      "|    smarth|    shete|mumbai|8484892448|    smarth@gmail.com|\n",
      "|     rahul|    shete|  pune|      null|     rahul@gmail.com|\n",
      "|    vishal|    shete|  beed|      null|    vishal@gmail.com|\n",
      "+----------+---------+------+----------+--------------------+\n",
      "\n"
     ]
    }
   ],
   "source": [
    "phone_no = data.select('first_name', 'last_name', 'city', 'phone_no', 'email')\n",
    "phone_no.show()"
   ]
  },
  {
   "cell_type": "code",
   "execution_count": 8,
   "metadata": {},
   "outputs": [
    {
     "name": "stdout",
     "output_type": "stream",
     "text": [
      "+----------+---------+------+----------+--------------------+\n",
      "|first_name|last_name|  city| mobile_no|               email|\n",
      "+----------+---------+------+----------+--------------------+\n",
      "|     vipul|    shete|  beed| 702085447|vipulshete@gmail.com|\n",
      "|   vaibhav|    shete|mumbai|9665281201|vaibhavshete@gmai...|\n",
      "|       ram|   shinde|  beed|      null| ramshinde@gmail.com|\n",
      "|   shubham|    joshi|  pune|8484756892|   shubham@gmail.com|\n",
      "|   kailash|   jadhav|mumbai|    598564|  pavanjad@gmail.com|\n",
      "|     pavan|    rasal|  beed|4311222265|  pavanjad@gmail.com|\n",
      "|      lisa|     dash|mumbai|      null|  lisadash@gmail.com|\n",
      "|   tukaram|   shinde|  pune|8484891290|   tukaram@gmail.com|\n",
      "|    smarth|    shete|mumbai|8484892448|    smarth@gmail.com|\n",
      "|     rahul|    shete|  pune|      null|     rahul@gmail.com|\n",
      "|    vishal|    shete|  beed|      null|    vishal@gmail.com|\n",
      "+----------+---------+------+----------+--------------------+\n",
      "\n"
     ]
    }
   ],
   "source": [
    "phone_no_1=phone_no.withColumnRenamed(\"phone_no\",\"mobile_no\")\n",
    "phone_no_1.show()"
   ]
  },
  {
   "cell_type": "code",
   "execution_count": 9,
   "metadata": {},
   "outputs": [
    {
     "name": "stdout",
     "output_type": "stream",
     "text": [
      "+----------+---------+------+----------+--------------------+--------------+\n",
      "|first_name|last_name|  city| mobile_no|               email|correct_mobile|\n",
      "+----------+---------+------+----------+--------------------+--------------+\n",
      "|     vipul|    shete|  beed| 702085447|vipulshete@gmail.com|     702085447|\n",
      "|   vaibhav|    shete|mumbai|9665281201|vaibhavshete@gmai...|          True|\n",
      "|       ram|   shinde|  beed|      null| ramshinde@gmail.com|          null|\n",
      "|   shubham|    joshi|  pune|8484756892|   shubham@gmail.com|          True|\n",
      "|   kailash|   jadhav|mumbai|    598564|  pavanjad@gmail.com|        598564|\n",
      "|     pavan|    rasal|  beed|4311222265|  pavanjad@gmail.com|    4311222265|\n",
      "|      lisa|     dash|mumbai|      null|  lisadash@gmail.com|          null|\n",
      "|   tukaram|   shinde|  pune|8484891290|   tukaram@gmail.com|          True|\n",
      "|    smarth|    shete|mumbai|8484892448|    smarth@gmail.com|          True|\n",
      "|     rahul|    shete|  pune|      null|     rahul@gmail.com|          null|\n",
      "|    vishal|    shete|  beed|      null|    vishal@gmail.com|          null|\n",
      "+----------+---------+------+----------+--------------------+--------------+\n",
      "\n"
     ]
    }
   ],
   "source": [
    "phone_no_2 = phone_no_1.select(\"*\", f.regexp_replace(f.col(\"mobile_no\"), \"[0/91]?[6789]{1}[0-9]{9}$\", \"True\").alias(\"correct_mobile\"))  \n",
    "phone_no_2.show()"
   ]
  },
  {
   "cell_type": "code",
   "execution_count": 10,
   "metadata": {},
   "outputs": [
    {
     "name": "stdout",
     "output_type": "stream",
     "text": [
      "+----------+---------+------+----------+--------------------+--------------+\n",
      "|first_name|last_name|  city| mobile_no|               email|correct_mobile|\n",
      "+----------+---------+------+----------+--------------------+--------------+\n",
      "|   vaibhav|    shete|mumbai|9665281201|vaibhavshete@gmai...|          True|\n",
      "|   shubham|    joshi|  pune|8484756892|   shubham@gmail.com|          True|\n",
      "|   tukaram|   shinde|  pune|8484891290|   tukaram@gmail.com|          True|\n",
      "|    smarth|    shete|mumbai|8484892448|    smarth@gmail.com|          True|\n",
      "+----------+---------+------+----------+--------------------+--------------+\n",
      "\n"
     ]
    }
   ],
   "source": [
    "phone_no_3 = phone_no_2.filter(phone_no_2.correct_mobile=='True')\n",
    "phone_no_3.show()"
   ]
  },
  {
   "cell_type": "code",
   "execution_count": 11,
   "metadata": {},
   "outputs": [
    {
     "name": "stdout",
     "output_type": "stream",
     "text": [
      "+----------+---------+------+----------+--------------------+\n",
      "|first_name|last_name|  city| mobile_no|               email|\n",
      "+----------+---------+------+----------+--------------------+\n",
      "|   vaibhav|    shete|mumbai|9665281201|vaibhavshete@gmai...|\n",
      "|   shubham|    joshi|  pune|8484756892|   shubham@gmail.com|\n",
      "|   tukaram|   shinde|  pune|8484891290|   tukaram@gmail.com|\n",
      "|    smarth|    shete|mumbai|8484892448|    smarth@gmail.com|\n",
      "+----------+---------+------+----------+--------------------+\n",
      "\n"
     ]
    }
   ],
   "source": [
    "validate_phone = phone_no_3.select('first_name', 'last_name', 'city', 'mobile_no', 'email')\n",
    "validate_phone.show()"
   ]
  },
  {
   "cell_type": "code",
   "execution_count": 12,
   "metadata": {},
   "outputs": [
    {
     "name": "stdout",
     "output_type": "stream",
     "text": [
      "+----------+---------+------+----------+--------------------+\n",
      "|first_name|last_name|  city| mobile_no|               email|\n",
      "+----------+---------+------+----------+--------------------+\n",
      "|     vipul|    shete|  beed|8484891290|vipulshete@gmail.com|\n",
      "|     pavan|    rasal|  beed|8484895260|  pavanjad@gmail.com|\n",
      "|    smarth|    shete|mumbai|8756987845|    smarth@gmail.com|\n",
      "|   vaibhav|    shete|mumbai|9665281201|vaibhavshete@gmai...|\n",
      "|   shubham|    joshi|  pune|8484756892|   shubham@gmail.com|\n",
      "|   tukaram|   shinde|  pune|8484891290|   tukaram@gmail.com|\n",
      "|    smarth|    shete|mumbai|8484892448|    smarth@gmail.com|\n",
      "+----------+---------+------+----------+--------------------+\n",
      "\n"
     ]
    }
   ],
   "source": [
    "validate_number = validate_mobile.union(validate_phone)\n",
    "validate_number.show()"
   ]
  },
  {
   "cell_type": "code",
   "execution_count": 13,
   "metadata": {},
   "outputs": [
    {
     "name": "stdout",
     "output_type": "stream",
     "text": [
      "+----------+---------+------+----------+--------------------+------------+\n",
      "|first_name|last_name|  city| mobile_no|               email|country_code|\n",
      "+----------+---------+------+----------+--------------------+------------+\n",
      "|     vipul|    shete|  beed|8484891290|vipulshete@gmail.com|         +91|\n",
      "|     pavan|    rasal|  beed|8484895260|  pavanjad@gmail.com|         +91|\n",
      "|    smarth|    shete|mumbai|8756987845|    smarth@gmail.com|         +91|\n",
      "|   vaibhav|    shete|mumbai|9665281201|vaibhavshete@gmai...|         +91|\n",
      "|   shubham|    joshi|  pune|8484756892|   shubham@gmail.com|         +91|\n",
      "|   tukaram|   shinde|  pune|8484891290|   tukaram@gmail.com|         +91|\n",
      "|    smarth|    shete|mumbai|8484892448|    smarth@gmail.com|         +91|\n",
      "+----------+---------+------+----------+--------------------+------------+\n",
      "\n"
     ]
    }
   ],
   "source": [
    "country_code=validate_number.withColumn(\"country_code\", f.lit('+91'))\n",
    "country_code.show()\n"
   ]
  },
  {
   "cell_type": "code",
   "execution_count": 14,
   "metadata": {},
   "outputs": [
    {
     "name": "stdout",
     "output_type": "stream",
     "text": [
      "+----------+---------+------+----------+--------------------+------------+----------------------------+\n",
      "|first_name|last_name|  city| mobile_no|               email|country_code|countery_code_with_mobile_no|\n",
      "+----------+---------+------+----------+--------------------+------------+----------------------------+\n",
      "|     vipul|    shete|  beed|8484891290|vipulshete@gmail.com|         +91|              +91 8484891290|\n",
      "|     pavan|    rasal|  beed|8484895260|  pavanjad@gmail.com|         +91|              +91 8484895260|\n",
      "|    smarth|    shete|mumbai|8756987845|    smarth@gmail.com|         +91|              +91 8756987845|\n",
      "|   vaibhav|    shete|mumbai|9665281201|vaibhavshete@gmai...|         +91|              +91 9665281201|\n",
      "|   shubham|    joshi|  pune|8484756892|   shubham@gmail.com|         +91|              +91 8484756892|\n",
      "|   tukaram|   shinde|  pune|8484891290|   tukaram@gmail.com|         +91|              +91 8484891290|\n",
      "|    smarth|    shete|mumbai|8484892448|    smarth@gmail.com|         +91|              +91 8484892448|\n",
      "+----------+---------+------+----------+--------------------+------------+----------------------------+\n",
      "\n"
     ]
    }
   ],
   "source": [
    "final_contacts=country_code.select(\"*\", concat(col(\"country_code\"),lit(\" \"),col(\"mobile_no\")).alias(\"countery_code_with_mobile_no\"))\n",
    "final_contacts.show()"
   ]
  },
  {
   "cell_type": "code",
   "execution_count": 15,
   "metadata": {},
   "outputs": [
    {
     "name": "stdout",
     "output_type": "stream",
     "text": [
      "+----------+---------+------+----------------------------+----------------------+\n",
      "|first_name|last_name|city  |countery_code_with_mobile_no|email                 |\n",
      "+----------+---------+------+----------------------------+----------------------+\n",
      "|vipul     |shete    |beed  |+91 8484891290              |vipulshete@gmail.com  |\n",
      "|pavan     |rasal    |beed  |+91 8484895260              |pavanjad@gmail.com    |\n",
      "|smarth    |shete    |mumbai|+91 8756987845              |smarth@gmail.com      |\n",
      "|vaibhav   |shete    |mumbai|+91 9665281201              |vaibhavshete@gmail.com|\n",
      "|shubham   |joshi    |pune  |+91 8484756892              |shubham@gmail.com     |\n",
      "|tukaram   |shinde   |pune  |+91 8484891290              |tukaram@gmail.com     |\n",
      "|smarth    |shete    |mumbai|+91 8484892448              |smarth@gmail.com      |\n",
      "+----------+---------+------+----------------------------+----------------------+\n",
      "\n"
     ]
    }
   ],
   "source": [
    "contacts = final_contacts.select('first_name', 'last_name', 'city', 'countery_code_with_mobile_no', 'email')\n",
    "contacts.show(truncate=False)"
   ]
  },
  {
   "cell_type": "code",
   "execution_count": 20,
   "metadata": {},
   "outputs": [
    {
     "name": "stdout",
     "output_type": "stream",
     "text": [
      "+------------------------------------+----------+---------+------+----------------------------+----------------------+\n",
      "|id                                  |first_name|last_name|city  |countery_code_with_mobile_no|email                 |\n",
      "+------------------------------------+----------+---------+------+----------------------------+----------------------+\n",
      "|11ef7545-4c73-4b14-bb91-31f7bb14d597|vipul     |shete    |beed  |+91 8484891290              |vipulshete@gmail.com  |\n",
      "|2ca57426-7ddc-4843-b798-ae69692625e2|pavan     |rasal    |beed  |+91 8484895260              |pavanjad@gmail.com    |\n",
      "|004f4ca2-2bc1-4fd1-9452-ba4edae13bba|smarth    |shete    |mumbai|+91 8756987845              |smarth@gmail.com      |\n",
      "|a401d85e-2a05-4ab9-80d7-7e8a853c9cfd|vaibhav   |shete    |mumbai|+91 9665281201              |vaibhavshete@gmail.com|\n",
      "|76eb8c23-f8e5-4d73-b6a1-68cbedb8c414|shubham   |joshi    |pune  |+91 8484756892              |shubham@gmail.com     |\n",
      "|c8d9be79-368a-438d-af18-6bb758dd00e8|tukaram   |shinde   |pune  |+91 8484891290              |tukaram@gmail.com     |\n",
      "|795b78f6-c8af-44a1-b542-19d36783228a|smarth    |shete    |mumbai|+91 8484892448              |smarth@gmail.com      |\n",
      "+------------------------------------+----------+---------+------+----------------------------+----------------------+\n",
      "\n"
     ]
    }
   ],
   "source": [
    "try:\n",
    "    id = []\n",
    "    for i in range(contacts.count()):\n",
    "        id.append(str(uuid.uuid4()))\n",
    "    contact_df = contacts.repartition(1).withColumn('id',f.udf(lambda x: id[x])(f.monotonically_increasing_id()))\n",
    "\n",
    "    contact_df = contact_df.select('id','first_name','last_name','city','countery_code_with_mobile_no','email')\n",
    "    contact_df.show(truncate=False)\n",
    "except Exception as e:\n",
    "    print(e)"
   ]
  },
  {
   "attachments": {},
   "cell_type": "markdown",
   "metadata": {},
   "source": [
    "## load table to mysql database"
   ]
  },
  {
   "cell_type": "code",
   "execution_count": 21,
   "metadata": {},
   "outputs": [],
   "source": [
    "contact_df.write.format('jdbc').options(\n",
    "      url='jdbc:mysql://localhost/my_first_db',\n",
    "      driver='com.mysql.jdbc.Driver',\n",
    "      dbtable='contacts',\n",
    "      user='root',\n",
    "      password='Vaibhav@123').mode('append').save()"
   ]
  }
 ],
 "metadata": {
  "kernelspec": {
   "display_name": "Python 3",
   "language": "python",
   "name": "python3"
  },
  "language_info": {
   "codemirror_mode": {
    "name": "ipython",
    "version": 3
   },
   "file_extension": ".py",
   "mimetype": "text/x-python",
   "name": "python",
   "nbconvert_exporter": "python",
   "pygments_lexer": "ipython3",
   "version": "3.8.10"
  },
  "orig_nbformat": 4,
  "vscode": {
   "interpreter": {
    "hash": "e7370f93d1d0cde622a1f8e1c04877d8463912d04d973331ad4851f04de6915a"
   }
  }
 },
 "nbformat": 4,
 "nbformat_minor": 2
}
