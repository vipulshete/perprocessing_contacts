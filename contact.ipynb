{
 "cells": [
  {
   "cell_type": "code",
   "execution_count": 24,
   "metadata": {},
   "outputs": [
    {
     "data": {
      "text/plain": [
       "'\\n    @Author: Vipul Shete\\n    @Date: 2022-12-20\\n    @Last Modified by: Vipul Shete\\n    @Last Modified Date: 2022-12-20\\n    @Title : Cleaning of mobile and phone number in contact list (UC-1) .\\n'"
      ]
     },
     "execution_count": 24,
     "metadata": {},
     "output_type": "execute_result"
    }
   ],
   "source": [
    "\"\"\"\n",
    "    @Author: Vipul Shete\n",
    "    @Date: 2022-12-21\n",
    "    @Last Modified by: Vipul Shete\n",
    "    @Last Modified Date: 2022-12-21\n",
    "    @Title : Cleaning of first_name, last_name and email in contact list (UC-3) .\n",
    "\"\"\""
   ]
  },
  {
   "cell_type": "code",
   "execution_count": 23,
   "metadata": {},
   "outputs": [],
   "source": [
    "import pyspark\n",
    "from pyspark.sql import SparkSession\n",
    "from pyspark.sql import Row\n",
    "from pyspark import SparkContext\n",
    "from pyspark.sql.functions import concat, lit, col\n",
    "from pyspark.sql import SparkSession\n",
    "from pyspark.sql.types import StructType,StructField, StringType, IntegerType\n",
    "from pyspark.sql.types import *\n",
    "import pyspark.sql.functions as f\n",
    "from pyspark.sql.functions import col\n",
    "import uuid\n",
    "\n",
    "spark = SparkSession.builder.config(\"spark.jars\", \"/home/hdoop_new/CFP/AWS/CFP/aws/contact/MySqlJdbcDriver/mysql-connector-j-8.0.31.jar\") \\\n",
    "    .master(\"local\") \\\n",
    "    .appName(\"PySpark_MySQL_test3\") \\\n",
    "    .getOrCreate()\n",
    "\n",
    "sc=spark.sparkContext"
   ]
  },
  {
   "cell_type": "code",
   "execution_count": 24,
   "metadata": {},
   "outputs": [],
   "source": [
    "data = spark.read.csv('contacts.csv', header=True)\n"
   ]
  },
  {
   "cell_type": "code",
   "execution_count": 25,
   "metadata": {},
   "outputs": [
    {
     "name": "stdout",
     "output_type": "stream",
     "text": [
      "+----------+---------+------+-----------+----------+--------------------+----------+-------+\n",
      "|first_name|last_name|  city|  mobile_no|  phone_no|               email|Is_email_s| Stream|\n",
      "+----------+---------+------+-----------+----------+--------------------+----------+-------+\n",
      "|     vipul|    shete|  beed| 8484891290| 702085447|vipulshete@gmail.com|       yes|   Mech|\n",
      "|   vaibhav|    shete|mumbai|70208524447|9665281201|vaibhavshete@gmai...|        no|     IT|\n",
      "|       ram|   shinde|  beed|     569856|      null|rams_hinde@gmail.com|        no|  B.com|\n",
      "|   $hubham|    joshi|  pune| 1234567892|8484756892|   shubham@gmail.com|      null|    Law|\n",
      "|  kai&lash|   jadhav|mumbai|       null|    598564|  pavanjad@gmail.com|       yes|     IT|\n",
      "|     pavan|    ra$al|  beed| 8484895260|4311222265|  pavanjad@gmail.com|      null|Teacher|\n",
      "|      lisa|     dash|mumbai|    8569877|      null|  lisadash@gmail.com|       yes|     IT|\n",
      "|  tuka#ram|   shinde|  pune|       null|8484891290|  tuk#aram@gmail.com|        no|     CS|\n",
      "|    smarth|    shete|mumbai| 8756987845|8484892448|    smarth@gmail.com|       yes|    EEE|\n",
      "|     rahul|    shete|  pune|   56987568|      null|     rahul@gmail.com|      null|   Mech|\n",
      "|    vishal|    shete|  beed|       null|      null|    vishal@gmail.com|       yes|     CE|\n",
      "|      renu|    gonde|  beed| 8484891290|      null| renugonde@gmail.com|        no|     IT|\n",
      "|      sham|    kad@m|  pune|    4587965|7845845698|      sham@gmail.com|        no|   Mech|\n",
      "|    ajay43| birajdar|   hyd| 7020145875|      null|    ajay87@gmail.com|       yes|     CE|\n",
      "|     p00ja|    gadge|  pune| 4215658457|7896541236|    pooja57@gmailcom|      null|   null|\n",
      "+----------+---------+------+-----------+----------+--------------------+----------+-------+\n",
      "\n"
     ]
    }
   ],
   "source": [
    "data.show()"
   ]
  },
  {
   "attachments": {},
   "cell_type": "markdown",
   "metadata": {},
   "source": [
    "## pre-process attribute "
   ]
  },
  {
   "cell_type": "code",
   "execution_count": 50,
   "metadata": {},
   "outputs": [
    {
     "name": "stdout",
     "output_type": "stream",
     "text": [
      "+----------+---------+------+-----------+----------+--------------------+----------+-------+--------------+\n",
      "|first_name|last_name|  city|  mobile_no|  phone_no|               email|Is_email_s| Stream|new_first_name|\n",
      "+----------+---------+------+-----------+----------+--------------------+----------+-------+--------------+\n",
      "|     vipul|    shete|  beed| 8484891290| 702085447|vipulshete@gmail.com|       yes|   Mech|         vipul|\n",
      "|   vaibhav|    shete|mumbai|70208524447|9665281201|vaibhavshete@gmai...|        no|     IT|       vaibhav|\n",
      "|       ram|   shinde|  beed|     569856|      null|rams_hinde@gmail.com|        no|  B.com|           ram|\n",
      "|   $hubham|    joshi|  pune| 1234567892|8484756892|   shubham@gmail.com|      null|    Law|          null|\n",
      "|  kai&lash|   jadhav|mumbai|       null|    598564|  pavanjad@gmail.com|       yes|     IT|          null|\n",
      "|     pavan|    ra$al|  beed| 8484895260|4311222265|  pavanjad@gmail.com|      null|Teacher|         pavan|\n",
      "|      lisa|     dash|mumbai|    8569877|      null|  lisadash@gmail.com|       yes|     IT|          lisa|\n",
      "|  tuka#ram|   shinde|  pune|       null|8484891290|  tuk#aram@gmail.com|        no|     CS|          null|\n",
      "|    smarth|    shete|mumbai| 8756987845|8484892448|    smarth@gmail.com|       yes|    EEE|        smarth|\n",
      "|     rahul|    shete|  pune|   56987568|      null|     rahul@gmail.com|      null|   Mech|         rahul|\n",
      "|    vishal|    shete|  beed|       null|      null|    vishal@gmail.com|       yes|     CE|        vishal|\n",
      "|      renu|    gonde|  beed| 8484891290|      null| renugonde@gmail.com|        no|     IT|          renu|\n",
      "|      sham|    kad@m|  pune|    4587965|7845845698|      sham@gmail.com|        no|   Mech|          sham|\n",
      "|    ajay43| birajdar|   hyd| 7020145875|      null|    ajay87@gmail.com|       yes|     CE|          null|\n",
      "|     p00ja|    gadge|  pune| 4215658457|7896541236|    pooja57@gmailcom|      null|   null|          null|\n",
      "+----------+---------+------+-----------+----------+--------------------+----------+-------+--------------+\n",
      "\n"
     ]
    }
   ],
   "source": [
    "## fillter first name only alphabte other wise null\n",
    "\n",
    "first_name = data.withColumn(\"new_first_name\", f.when(col(\"first_name\").rlike(\"^[a-zA-Z]*$\"), lit(data.first_name)).otherwise(lit(\"null\")))\n",
    "first_name.show()\n"
   ]
  },
  {
   "cell_type": "code",
   "execution_count": 51,
   "metadata": {},
   "outputs": [
    {
     "name": "stdout",
     "output_type": "stream",
     "text": [
      "+----------+---------+------+-----------+----------+--------------------+----------+-------+--------------+-------------+\n",
      "|first_name|last_name|  city|  mobile_no|  phone_no|               email|Is_email_s| Stream|new_first_name|new_last_name|\n",
      "+----------+---------+------+-----------+----------+--------------------+----------+-------+--------------+-------------+\n",
      "|     vipul|    shete|  beed| 8484891290| 702085447|vipulshete@gmail.com|       yes|   Mech|         vipul|        shete|\n",
      "|   vaibhav|    shete|mumbai|70208524447|9665281201|vaibhavshete@gmai...|        no|     IT|       vaibhav|        shete|\n",
      "|       ram|   shinde|  beed|     569856|      null|rams_hinde@gmail.com|        no|  B.com|           ram|       shinde|\n",
      "|   $hubham|    joshi|  pune| 1234567892|8484756892|   shubham@gmail.com|      null|    Law|          null|        joshi|\n",
      "|  kai&lash|   jadhav|mumbai|       null|    598564|  pavanjad@gmail.com|       yes|     IT|          null|       jadhav|\n",
      "|     pavan|    ra$al|  beed| 8484895260|4311222265|  pavanjad@gmail.com|      null|Teacher|         pavan|         null|\n",
      "|      lisa|     dash|mumbai|    8569877|      null|  lisadash@gmail.com|       yes|     IT|          lisa|         dash|\n",
      "|  tuka#ram|   shinde|  pune|       null|8484891290|  tuk#aram@gmail.com|        no|     CS|          null|       shinde|\n",
      "|    smarth|    shete|mumbai| 8756987845|8484892448|    smarth@gmail.com|       yes|    EEE|        smarth|        shete|\n",
      "|     rahul|    shete|  pune|   56987568|      null|     rahul@gmail.com|      null|   Mech|         rahul|        shete|\n",
      "|    vishal|    shete|  beed|       null|      null|    vishal@gmail.com|       yes|     CE|        vishal|        shete|\n",
      "|      renu|    gonde|  beed| 8484891290|      null| renugonde@gmail.com|        no|     IT|          renu|        gonde|\n",
      "|      sham|    kad@m|  pune|    4587965|7845845698|      sham@gmail.com|        no|   Mech|          sham|         null|\n",
      "|    ajay43| birajdar|   hyd| 7020145875|      null|    ajay87@gmail.com|       yes|     CE|          null|     birajdar|\n",
      "|     p00ja|    gadge|  pune| 4215658457|7896541236|    pooja57@gmailcom|      null|   null|          null|        gadge|\n",
      "+----------+---------+------+-----------+----------+--------------------+----------+-------+--------------+-------------+\n",
      "\n"
     ]
    }
   ],
   "source": [
    "## fillter last name only alphabte other wise null\n",
    "\n",
    "last_name = first_name.withColumn(\"new_last_name\", f.when(col(\"last_name\").rlike(\"^[a-zA-Z]*$\"), lit(data.last_name)).otherwise(lit(\"null\")))\n",
    "last_name.show()"
   ]
  },
  {
   "cell_type": "code",
   "execution_count": 57,
   "metadata": {},
   "outputs": [
    {
     "name": "stdout",
     "output_type": "stream",
     "text": [
      "+----------+---------+------+-----------+----------+--------------------+----------+-------+--------------+-------------+--------------------+\n",
      "|first_name|last_name|  city|  mobile_no|  phone_no|               email|Is_email_s| Stream|new_first_name|new_last_name|           new_email|\n",
      "+----------+---------+------+-----------+----------+--------------------+----------+-------+--------------+-------------+--------------------+\n",
      "|     vipul|    shete|  beed| 8484891290| 702085447|vipulshete@gmail.com|       yes|   Mech|         vipul|        shete|vipulshete@gmail.com|\n",
      "|   vaibhav|    shete|mumbai|70208524447|9665281201|vaibhavshete@gmai...|        no|     IT|       vaibhav|        shete|vaibhavshete@gmai...|\n",
      "|       ram|   shinde|  beed|     569856|      null|rams_hinde@gmail.com|        no|  B.com|           ram|       shinde|                null|\n",
      "|   $hubham|    joshi|  pune| 1234567892|8484756892|   shubham@gmail.com|      null|    Law|          null|        joshi|   shubham@gmail.com|\n",
      "|  kai&lash|   jadhav|mumbai|       null|    598564|  pavanjad@gmail.com|       yes|     IT|          null|       jadhav|  pavanjad@gmail.com|\n",
      "|     pavan|    ra$al|  beed| 8484895260|4311222265|  pavanjad@gmail.com|      null|Teacher|         pavan|         null|  pavanjad@gmail.com|\n",
      "|      lisa|     dash|mumbai|    8569877|      null|  lisadash@gmail.com|       yes|     IT|          lisa|         dash|  lisadash@gmail.com|\n",
      "|  tuka#ram|   shinde|  pune|       null|8484891290|  tuk#aram@gmail.com|        no|     CS|          null|       shinde|                null|\n",
      "|    smarth|    shete|mumbai| 8756987845|8484892448|    smarth@gmail.com|       yes|    EEE|        smarth|        shete|    smarth@gmail.com|\n",
      "|     rahul|    shete|  pune|   56987568|      null|     rahul@gmail.com|      null|   Mech|         rahul|        shete|     rahul@gmail.com|\n",
      "|    vishal|    shete|  beed|       null|      null|    vishal@gmail.com|       yes|     CE|        vishal|        shete|    vishal@gmail.com|\n",
      "|      renu|    gonde|  beed| 8484891290|      null| renugonde@gmail.com|        no|     IT|          renu|        gonde| renugonde@gmail.com|\n",
      "|      sham|    kad@m|  pune|    4587965|7845845698|      sham@gmail.com|        no|   Mech|          sham|         null|      sham@gmail.com|\n",
      "|    ajay43| birajdar|   hyd| 7020145875|      null|    ajay87@gmail.com|       yes|     CE|          null|     birajdar|    ajay87@gmail.com|\n",
      "|     p00ja|    gadge|  pune| 4215658457|7896541236|    pooja57@gmailcom|      null|   null|          null|        gadge|                null|\n",
      "+----------+---------+------+-----------+----------+--------------------+----------+-------+--------------+-------------+--------------------+\n",
      "\n"
     ]
    }
   ],
   "source": [
    "## fillter last name only alphabte other wise null\n",
    "\n",
    "email_filter = last_name.withColumn(\"new_email\", f.when(col(\"email\").rlike(\"^([a-zA-Z0-9\\-\\.]+)@([a-zA-Z0-9_\\-\\.]+)\\.([a-zA-Z]{2,5})$\"), lit(data.email)).otherwise(lit(\"null\")))\n",
    "email_filter.show()"
   ]
  },
  {
   "cell_type": "code",
   "execution_count": 58,
   "metadata": {},
   "outputs": [
    {
     "name": "stdout",
     "output_type": "stream",
     "text": [
      "+--------------+-------------+------+-----------+----------+--------------------+----------+-------+\n",
      "|new_first_name|new_last_name|  city|  mobile_no|  phone_no|           new_email|Is_email_s| Stream|\n",
      "+--------------+-------------+------+-----------+----------+--------------------+----------+-------+\n",
      "|         vipul|        shete|  beed| 8484891290| 702085447|vipulshete@gmail.com|       yes|   Mech|\n",
      "|       vaibhav|        shete|mumbai|70208524447|9665281201|vaibhavshete@gmai...|        no|     IT|\n",
      "|           ram|       shinde|  beed|     569856|      null|                null|        no|  B.com|\n",
      "|          null|        joshi|  pune| 1234567892|8484756892|   shubham@gmail.com|      null|    Law|\n",
      "|          null|       jadhav|mumbai|       null|    598564|  pavanjad@gmail.com|       yes|     IT|\n",
      "|         pavan|         null|  beed| 8484895260|4311222265|  pavanjad@gmail.com|      null|Teacher|\n",
      "|          lisa|         dash|mumbai|    8569877|      null|  lisadash@gmail.com|       yes|     IT|\n",
      "|          null|       shinde|  pune|       null|8484891290|                null|        no|     CS|\n",
      "|        smarth|        shete|mumbai| 8756987845|8484892448|    smarth@gmail.com|       yes|    EEE|\n",
      "|         rahul|        shete|  pune|   56987568|      null|     rahul@gmail.com|      null|   Mech|\n",
      "|        vishal|        shete|  beed|       null|      null|    vishal@gmail.com|       yes|     CE|\n",
      "|          renu|        gonde|  beed| 8484891290|      null| renugonde@gmail.com|        no|     IT|\n",
      "|          sham|         null|  pune|    4587965|7845845698|      sham@gmail.com|        no|   Mech|\n",
      "|          null|     birajdar|   hyd| 7020145875|      null|    ajay87@gmail.com|       yes|     CE|\n",
      "|          null|        gadge|  pune| 4215658457|7896541236|                null|      null|   null|\n",
      "+--------------+-------------+------+-----------+----------+--------------------+----------+-------+\n",
      "\n"
     ]
    }
   ],
   "source": [
    "## select columns \n",
    "\n",
    "new_data = email_filter.select(\"new_first_name\", \"new_last_name\", \"city\", \"mobile_no\", \"phone_no\", \"new_email\", \"Is_email_s\", \"Stream\")\n",
    "new_data.show()"
   ]
  },
  {
   "cell_type": "code",
   "execution_count": 64,
   "metadata": {},
   "outputs": [],
   "source": [
    "data_1 = new_data.withColumnRenamed(\"new_first_name\", \"first_name\")\n",
    "data_2 = data_1.withColumnRenamed(\"new_last_name\", \"last_name\")\n",
    "data_3 = data_2.withColumnRenamed(\"new_email\", \"email\")"
   ]
  },
  {
   "cell_type": "code",
   "execution_count": 66,
   "metadata": {},
   "outputs": [
    {
     "name": "stdout",
     "output_type": "stream",
     "text": [
      "+----------+---------+------+-----------+----------+----------------------+----------+-------+\n",
      "|first_name|last_name|city  |mobile_no  |phone_no  |email                 |Is_email_s|Stream |\n",
      "+----------+---------+------+-----------+----------+----------------------+----------+-------+\n",
      "|vipul     |shete    |beed  |8484891290 |702085447 |vipulshete@gmail.com  |yes       |Mech   |\n",
      "|vaibhav   |shete    |mumbai|70208524447|9665281201|vaibhavshete@gmail.com|no        |IT     |\n",
      "|ram       |shinde   |beed  |569856     |null      |null                  |no        |B.com  |\n",
      "|null      |joshi    |pune  |1234567892 |8484756892|shubham@gmail.com     |null      |Law    |\n",
      "|null      |jadhav   |mumbai|null       |598564    |pavanjad@gmail.com    |yes       |IT     |\n",
      "|pavan     |null     |beed  |8484895260 |4311222265|pavanjad@gmail.com    |null      |Teacher|\n",
      "|lisa      |dash     |mumbai|8569877    |null      |lisadash@gmail.com    |yes       |IT     |\n",
      "|null      |shinde   |pune  |null       |8484891290|null                  |no        |CS     |\n",
      "|smarth    |shete    |mumbai|8756987845 |8484892448|smarth@gmail.com      |yes       |EEE    |\n",
      "|rahul     |shete    |pune  |56987568   |null      |rahul@gmail.com       |null      |Mech   |\n",
      "|vishal    |shete    |beed  |null       |null      |vishal@gmail.com      |yes       |CE     |\n",
      "|renu      |gonde    |beed  |8484891290 |null      |renugonde@gmail.com   |no        |IT     |\n",
      "|sham      |null     |pune  |4587965    |7845845698|sham@gmail.com        |no        |Mech   |\n",
      "|null      |birajdar |hyd   |7020145875 |null      |ajay87@gmail.com      |yes       |CE     |\n",
      "|null      |gadge    |pune  |4215658457 |7896541236|null                  |null      |null   |\n",
      "+----------+---------+------+-----------+----------+----------------------+----------+-------+\n",
      "\n"
     ]
    }
   ],
   "source": [
    "data_3.show(truncate=False)"
   ]
  },
  {
   "attachments": {},
   "cell_type": "markdown",
   "metadata": {},
   "source": [
    "## encoding Is_email and branch"
   ]
  },
  {
   "cell_type": "code",
   "execution_count": 68,
   "metadata": {},
   "outputs": [],
   "source": [
    "is_mail = spark.read.json(\"email_code.json\")\n",
    "mail = is_mail.collect()[0]"
   ]
  },
  {
   "cell_type": "code",
   "execution_count": 69,
   "metadata": {},
   "outputs": [
    {
     "name": "stdout",
     "output_type": "stream",
     "text": [
      "+----------+---------+------+-----------+----------+--------------------+----------+-------+------------+\n",
      "|first_name|last_name|  city|  mobile_no|  phone_no|               email|Is_email_s| Stream|Is_mail_send|\n",
      "+----------+---------+------+-----------+----------+--------------------+----------+-------+------------+\n",
      "|     vipul|    shete|  beed| 8484891290| 702085447|vipulshete@gmail.com|       yes|   Mech|           1|\n",
      "|   vaibhav|    shete|mumbai|70208524447|9665281201|vaibhavshete@gmai...|        no|     IT|           0|\n",
      "|       ram|   shinde|  beed|     569856|      null|                null|        no|  B.com|           0|\n",
      "|      null|    joshi|  pune| 1234567892|8484756892|   shubham@gmail.com|      null|    Law|        null|\n",
      "|      null|   jadhav|mumbai|       null|    598564|  pavanjad@gmail.com|       yes|     IT|           1|\n",
      "|     pavan|     null|  beed| 8484895260|4311222265|  pavanjad@gmail.com|      null|Teacher|        null|\n",
      "|      lisa|     dash|mumbai|    8569877|      null|  lisadash@gmail.com|       yes|     IT|           1|\n",
      "|      null|   shinde|  pune|       null|8484891290|                null|        no|     CS|           0|\n",
      "|    smarth|    shete|mumbai| 8756987845|8484892448|    smarth@gmail.com|       yes|    EEE|           1|\n",
      "|     rahul|    shete|  pune|   56987568|      null|     rahul@gmail.com|      null|   Mech|        null|\n",
      "|    vishal|    shete|  beed|       null|      null|    vishal@gmail.com|       yes|     CE|           1|\n",
      "|      renu|    gonde|  beed| 8484891290|      null| renugonde@gmail.com|        no|     IT|           0|\n",
      "|      sham|     null|  pune|    4587965|7845845698|      sham@gmail.com|        no|   Mech|           0|\n",
      "|      null| birajdar|   hyd| 7020145875|      null|    ajay87@gmail.com|       yes|     CE|           1|\n",
      "|      null|    gadge|  pune| 4215658457|7896541236|                null|      null|   null|        null|\n",
      "+----------+---------+------+-----------+----------+--------------------+----------+-------+------------+\n",
      "\n"
     ]
    }
   ],
   "source": [
    "## replace value in IS_mail column\n",
    "\n",
    "send_mail_send = data_3.withColumn(\"Is_mail_send\", \n",
    "    f.when(data_3.Is_email_s==\"yes\", is_mail.collect()[0][1]) \\\n",
    "   .when(data_3.Is_email_s==\"no\", is_mail.collect()[0][0]) \\\n",
    "   .otherwise(data_3.Is_email_s)) \n",
    "send_mail_send.show()"
   ]
  },
  {
   "cell_type": "code",
   "execution_count": 70,
   "metadata": {},
   "outputs": [
    {
     "data": {
      "text/plain": [
       "Row(B.com='Non-Technical', CE='Technical', CS='Technical', EEE='Technical', IT='Technical', Law='Non-Technical', Mech='Technical', Teacher='Non-Technical')"
      ]
     },
     "execution_count": 70,
     "metadata": {},
     "output_type": "execute_result"
    }
   ],
   "source": [
    "stream = spark.read.json(\"stream_code.json\")\n",
    "stream_encoding = stream.collect()[0]\n",
    "stream_encoding"
   ]
  },
  {
   "cell_type": "code",
   "execution_count": 71,
   "metadata": {},
   "outputs": [
    {
     "name": "stdout",
     "output_type": "stream",
     "text": [
      "+----------+---------+------+-----------+----------+--------------------+----------+-------+------------+-------------+\n",
      "|first_name|last_name|  city|  mobile_no|  phone_no|               email|Is_email_s| Stream|Is_mail_send|Type_of_strem|\n",
      "+----------+---------+------+-----------+----------+--------------------+----------+-------+------------+-------------+\n",
      "|     vipul|    shete|  beed| 8484891290| 702085447|vipulshete@gmail.com|       yes|   Mech|           1|    Technical|\n",
      "|   vaibhav|    shete|mumbai|70208524447|9665281201|vaibhavshete@gmai...|        no|     IT|           0|    Technical|\n",
      "|       ram|   shinde|  beed|     569856|      null|                null|        no|  B.com|           0|Non-Technical|\n",
      "|      null|    joshi|  pune| 1234567892|8484756892|   shubham@gmail.com|      null|    Law|        null|Non-Technical|\n",
      "|      null|   jadhav|mumbai|       null|    598564|  pavanjad@gmail.com|       yes|     IT|           1|    Technical|\n",
      "|     pavan|     null|  beed| 8484895260|4311222265|  pavanjad@gmail.com|      null|Teacher|        null|Non-Technical|\n",
      "|      lisa|     dash|mumbai|    8569877|      null|  lisadash@gmail.com|       yes|     IT|           1|    Technical|\n",
      "|      null|   shinde|  pune|       null|8484891290|                null|        no|     CS|           0|    Technical|\n",
      "|    smarth|    shete|mumbai| 8756987845|8484892448|    smarth@gmail.com|       yes|    EEE|           1|    Technical|\n",
      "|     rahul|    shete|  pune|   56987568|      null|     rahul@gmail.com|      null|   Mech|        null|    Technical|\n",
      "|    vishal|    shete|  beed|       null|      null|    vishal@gmail.com|       yes|     CE|           1|    Technical|\n",
      "|      renu|    gonde|  beed| 8484891290|      null| renugonde@gmail.com|        no|     IT|           0|    Technical|\n",
      "|      sham|     null|  pune|    4587965|7845845698|      sham@gmail.com|        no|   Mech|           0|    Technical|\n",
      "|      null| birajdar|   hyd| 7020145875|      null|    ajay87@gmail.com|       yes|     CE|           1|    Technical|\n",
      "|      null|    gadge|  pune| 4215658457|7896541236|                null|      null|   null|        null|         null|\n",
      "+----------+---------+------+-----------+----------+--------------------+----------+-------+------------+-------------+\n",
      "\n"
     ]
    }
   ],
   "source": [
    "## replace value in Branch column\n",
    "\n",
    "stream_type = send_mail_send.withColumn(\"Type_of_strem\", \n",
    "    f.when(send_mail_send.Stream==\"B.com\", stream_encoding[0]) \\\n",
    "   .when(send_mail_send.Stream==\"CE\", stream_encoding[1]) \\\n",
    "    .when(send_mail_send.Stream==\"CS\", stream_encoding[2]) \\\n",
    "    .when(send_mail_send.Stream==\"EEE\", stream_encoding[3]) \\\n",
    "    .when(send_mail_send.Stream==\"IT\", stream_encoding[4]) \\\n",
    "    .when(send_mail_send.Stream==\"Law\", stream_encoding[5]) \\\n",
    "    .when(send_mail_send.Stream==\"Mech\", stream_encoding[6]) \\\n",
    "    .when(send_mail_send.Stream==\"Teacher\", stream_encoding[7]) \\\n",
    "    .otherwise(send_mail_send.Stream)) \n",
    "stream_type.show()"
   ]
  },
  {
   "cell_type": "code",
   "execution_count": 72,
   "metadata": {},
   "outputs": [
    {
     "name": "stdout",
     "output_type": "stream",
     "text": [
      "+----------+---------+------+-----------+----------+--------------------+------------+-------+-------------+\n",
      "|first_name|last_name|  city|  mobile_no|  phone_no|               email|Is_mail_send| Stream|Type_of_strem|\n",
      "+----------+---------+------+-----------+----------+--------------------+------------+-------+-------------+\n",
      "|     vipul|    shete|  beed| 8484891290| 702085447|vipulshete@gmail.com|           1|   Mech|    Technical|\n",
      "|   vaibhav|    shete|mumbai|70208524447|9665281201|vaibhavshete@gmai...|           0|     IT|    Technical|\n",
      "|       ram|   shinde|  beed|     569856|      null|                null|           0|  B.com|Non-Technical|\n",
      "|      null|    joshi|  pune| 1234567892|8484756892|   shubham@gmail.com|        null|    Law|Non-Technical|\n",
      "|      null|   jadhav|mumbai|       null|    598564|  pavanjad@gmail.com|           1|     IT|    Technical|\n",
      "|     pavan|     null|  beed| 8484895260|4311222265|  pavanjad@gmail.com|        null|Teacher|Non-Technical|\n",
      "|      lisa|     dash|mumbai|    8569877|      null|  lisadash@gmail.com|           1|     IT|    Technical|\n",
      "|      null|   shinde|  pune|       null|8484891290|                null|           0|     CS|    Technical|\n",
      "|    smarth|    shete|mumbai| 8756987845|8484892448|    smarth@gmail.com|           1|    EEE|    Technical|\n",
      "|     rahul|    shete|  pune|   56987568|      null|     rahul@gmail.com|        null|   Mech|    Technical|\n",
      "|    vishal|    shete|  beed|       null|      null|    vishal@gmail.com|           1|     CE|    Technical|\n",
      "|      renu|    gonde|  beed| 8484891290|      null| renugonde@gmail.com|           0|     IT|    Technical|\n",
      "|      sham|     null|  pune|    4587965|7845845698|      sham@gmail.com|           0|   Mech|    Technical|\n",
      "|      null| birajdar|   hyd| 7020145875|      null|    ajay87@gmail.com|           1|     CE|    Technical|\n",
      "|      null|    gadge|  pune| 4215658457|7896541236|                null|        null|   null|         null|\n",
      "+----------+---------+------+-----------+----------+--------------------+------------+-------+-------------+\n",
      "\n"
     ]
    }
   ],
   "source": [
    "# select columns\n",
    "\n",
    "map_columns = stream_type.select(\"first_name\", \"last_name\", \"city\", \"mobile_no\", \"phone_no\", \"email\", \"Is_mail_send\", \"Stream\", \"Type_of_strem\") \n",
    "map_columns.show()"
   ]
  },
  {
   "cell_type": "code",
   "execution_count": 73,
   "metadata": {},
   "outputs": [
    {
     "name": "stdout",
     "output_type": "stream",
     "text": [
      "+----------+---------+------+-----------+----------+--------------------+------------+-------+-------------+--------------+\n",
      "|first_name|last_name|  city|  mobile_no|  phone_no|               email|Is_mail_send| Stream|Type_of_strem|correct_mobile|\n",
      "+----------+---------+------+-----------+----------+--------------------+------------+-------+-------------+--------------+\n",
      "|     vipul|    shete|  beed| 8484891290| 702085447|vipulshete@gmail.com|           1|   Mech|    Technical|          True|\n",
      "|   vaibhav|    shete|mumbai|70208524447|9665281201|vaibhavshete@gmai...|           0|     IT|    Technical|   70208524447|\n",
      "|       ram|   shinde|  beed|     569856|      null|                null|           0|  B.com|Non-Technical|        569856|\n",
      "|      null|    joshi|  pune| 1234567892|8484756892|   shubham@gmail.com|        null|    Law|Non-Technical|    1234567892|\n",
      "|      null|   jadhav|mumbai|       null|    598564|  pavanjad@gmail.com|           1|     IT|    Technical|          null|\n",
      "|     pavan|     null|  beed| 8484895260|4311222265|  pavanjad@gmail.com|        null|Teacher|Non-Technical|          True|\n",
      "|      lisa|     dash|mumbai|    8569877|      null|  lisadash@gmail.com|           1|     IT|    Technical|       8569877|\n",
      "|      null|   shinde|  pune|       null|8484891290|                null|           0|     CS|    Technical|          null|\n",
      "|    smarth|    shete|mumbai| 8756987845|8484892448|    smarth@gmail.com|           1|    EEE|    Technical|          True|\n",
      "|     rahul|    shete|  pune|   56987568|      null|     rahul@gmail.com|        null|   Mech|    Technical|      56987568|\n",
      "|    vishal|    shete|  beed|       null|      null|    vishal@gmail.com|           1|     CE|    Technical|          null|\n",
      "|      renu|    gonde|  beed| 8484891290|      null| renugonde@gmail.com|           0|     IT|    Technical|          True|\n",
      "|      sham|     null|  pune|    4587965|7845845698|      sham@gmail.com|           0|   Mech|    Technical|       4587965|\n",
      "|      null| birajdar|   hyd| 7020145875|      null|    ajay87@gmail.com|           1|     CE|    Technical|          True|\n",
      "|      null|    gadge|  pune| 4215658457|7896541236|                null|        null|   null|         null|    4215658457|\n",
      "+----------+---------+------+-----------+----------+--------------------+------------+-------+-------------+--------------+\n",
      "\n"
     ]
    }
   ],
   "source": [
    "mobile_no = map_columns.select(\"*\", f.regexp_replace(f.col(\"mobile_no\"), \"[0/91]?[6789]{1}[0-9]{9}$\", \"True\").alias(\"correct_mobile\"))  \n",
    "mobile_no.show()"
   ]
  },
  {
   "cell_type": "code",
   "execution_count": 74,
   "metadata": {},
   "outputs": [
    {
     "name": "stdout",
     "output_type": "stream",
     "text": [
      "+----------+---------+------+----------+----------+--------------------+------------+-------+-------------+--------------+\n",
      "|first_name|last_name|  city| mobile_no|  phone_no|               email|Is_mail_send| Stream|Type_of_strem|correct_mobile|\n",
      "+----------+---------+------+----------+----------+--------------------+------------+-------+-------------+--------------+\n",
      "|     vipul|    shete|  beed|8484891290| 702085447|vipulshete@gmail.com|           1|   Mech|    Technical|          True|\n",
      "|     pavan|     null|  beed|8484895260|4311222265|  pavanjad@gmail.com|        null|Teacher|Non-Technical|          True|\n",
      "|    smarth|    shete|mumbai|8756987845|8484892448|    smarth@gmail.com|           1|    EEE|    Technical|          True|\n",
      "|      renu|    gonde|  beed|8484891290|      null| renugonde@gmail.com|           0|     IT|    Technical|          True|\n",
      "|      null| birajdar|   hyd|7020145875|      null|    ajay87@gmail.com|           1|     CE|    Technical|          True|\n",
      "+----------+---------+------+----------+----------+--------------------+------------+-------+-------------+--------------+\n",
      "\n"
     ]
    }
   ],
   "source": [
    "mobile_no_1 = mobile_no.filter(mobile_no.correct_mobile=='True')\n",
    "mobile_no_1.show()"
   ]
  },
  {
   "cell_type": "code",
   "execution_count": 75,
   "metadata": {},
   "outputs": [
    {
     "name": "stdout",
     "output_type": "stream",
     "text": [
      "+----------+---------+------+----------+--------------------+------------+-------+-------------+\n",
      "|first_name|last_name|  city| mobile_no|               email|Is_mail_send| Stream|Type_of_strem|\n",
      "+----------+---------+------+----------+--------------------+------------+-------+-------------+\n",
      "|     vipul|    shete|  beed|8484891290|vipulshete@gmail.com|           1|   Mech|    Technical|\n",
      "|     pavan|     null|  beed|8484895260|  pavanjad@gmail.com|        null|Teacher|Non-Technical|\n",
      "|    smarth|    shete|mumbai|8756987845|    smarth@gmail.com|           1|    EEE|    Technical|\n",
      "|      renu|    gonde|  beed|8484891290| renugonde@gmail.com|           0|     IT|    Technical|\n",
      "|      null| birajdar|   hyd|7020145875|    ajay87@gmail.com|           1|     CE|    Technical|\n",
      "+----------+---------+------+----------+--------------------+------------+-------+-------------+\n",
      "\n"
     ]
    }
   ],
   "source": [
    "validate_mobile = mobile_no_1.select('first_name', 'last_name', 'city', 'mobile_no', 'email', \"Is_mail_send\", \"Stream\", \"Type_of_strem\")\n",
    "validate_mobile.show()"
   ]
  },
  {
   "cell_type": "code",
   "execution_count": 76,
   "metadata": {},
   "outputs": [
    {
     "name": "stdout",
     "output_type": "stream",
     "text": [
      "+----------+---------+------+----------+--------------------+------------+-------+-------------+\n",
      "|first_name|last_name|  city|  phone_no|               email|Is_mail_send| Stream|Type_of_strem|\n",
      "+----------+---------+------+----------+--------------------+------------+-------+-------------+\n",
      "|     vipul|    shete|  beed| 702085447|vipulshete@gmail.com|           1|   Mech|    Technical|\n",
      "|   vaibhav|    shete|mumbai|9665281201|vaibhavshete@gmai...|           0|     IT|    Technical|\n",
      "|       ram|   shinde|  beed|      null|                null|           0|  B.com|Non-Technical|\n",
      "|      null|    joshi|  pune|8484756892|   shubham@gmail.com|        null|    Law|Non-Technical|\n",
      "|      null|   jadhav|mumbai|    598564|  pavanjad@gmail.com|           1|     IT|    Technical|\n",
      "|     pavan|     null|  beed|4311222265|  pavanjad@gmail.com|        null|Teacher|Non-Technical|\n",
      "|      lisa|     dash|mumbai|      null|  lisadash@gmail.com|           1|     IT|    Technical|\n",
      "|      null|   shinde|  pune|8484891290|                null|           0|     CS|    Technical|\n",
      "|    smarth|    shete|mumbai|8484892448|    smarth@gmail.com|           1|    EEE|    Technical|\n",
      "|     rahul|    shete|  pune|      null|     rahul@gmail.com|        null|   Mech|    Technical|\n",
      "|    vishal|    shete|  beed|      null|    vishal@gmail.com|           1|     CE|    Technical|\n",
      "|      renu|    gonde|  beed|      null| renugonde@gmail.com|           0|     IT|    Technical|\n",
      "|      sham|     null|  pune|7845845698|      sham@gmail.com|           0|   Mech|    Technical|\n",
      "|      null| birajdar|   hyd|      null|    ajay87@gmail.com|           1|     CE|    Technical|\n",
      "|      null|    gadge|  pune|7896541236|                null|        null|   null|         null|\n",
      "+----------+---------+------+----------+--------------------+------------+-------+-------------+\n",
      "\n"
     ]
    }
   ],
   "source": [
    "phone_no = map_columns.select('first_name', 'last_name', 'city', 'phone_no', 'email', \"Is_mail_send\", \"Stream\", \"Type_of_strem\")\n",
    "phone_no.show()"
   ]
  },
  {
   "cell_type": "code",
   "execution_count": 77,
   "metadata": {},
   "outputs": [
    {
     "name": "stdout",
     "output_type": "stream",
     "text": [
      "+----------+---------+------+----------+--------------------+------------+-------+-------------+\n",
      "|first_name|last_name|  city| mobile_no|               email|Is_mail_send| Stream|Type_of_strem|\n",
      "+----------+---------+------+----------+--------------------+------------+-------+-------------+\n",
      "|     vipul|    shete|  beed| 702085447|vipulshete@gmail.com|           1|   Mech|    Technical|\n",
      "|   vaibhav|    shete|mumbai|9665281201|vaibhavshete@gmai...|           0|     IT|    Technical|\n",
      "|       ram|   shinde|  beed|      null|                null|           0|  B.com|Non-Technical|\n",
      "|      null|    joshi|  pune|8484756892|   shubham@gmail.com|        null|    Law|Non-Technical|\n",
      "|      null|   jadhav|mumbai|    598564|  pavanjad@gmail.com|           1|     IT|    Technical|\n",
      "|     pavan|     null|  beed|4311222265|  pavanjad@gmail.com|        null|Teacher|Non-Technical|\n",
      "|      lisa|     dash|mumbai|      null|  lisadash@gmail.com|           1|     IT|    Technical|\n",
      "|      null|   shinde|  pune|8484891290|                null|           0|     CS|    Technical|\n",
      "|    smarth|    shete|mumbai|8484892448|    smarth@gmail.com|           1|    EEE|    Technical|\n",
      "|     rahul|    shete|  pune|      null|     rahul@gmail.com|        null|   Mech|    Technical|\n",
      "|    vishal|    shete|  beed|      null|    vishal@gmail.com|           1|     CE|    Technical|\n",
      "|      renu|    gonde|  beed|      null| renugonde@gmail.com|           0|     IT|    Technical|\n",
      "|      sham|     null|  pune|7845845698|      sham@gmail.com|           0|   Mech|    Technical|\n",
      "|      null| birajdar|   hyd|      null|    ajay87@gmail.com|           1|     CE|    Technical|\n",
      "|      null|    gadge|  pune|7896541236|                null|        null|   null|         null|\n",
      "+----------+---------+------+----------+--------------------+------------+-------+-------------+\n",
      "\n"
     ]
    }
   ],
   "source": [
    "phone_no_1=phone_no.withColumnRenamed(\"phone_no\",\"mobile_no\")\n",
    "phone_no_1.show()"
   ]
  },
  {
   "cell_type": "code",
   "execution_count": 78,
   "metadata": {},
   "outputs": [
    {
     "name": "stdout",
     "output_type": "stream",
     "text": [
      "+----------+---------+------+----------+--------------------+------------+-------+-------------+--------------+\n",
      "|first_name|last_name|  city| mobile_no|               email|Is_mail_send| Stream|Type_of_strem|correct_mobile|\n",
      "+----------+---------+------+----------+--------------------+------------+-------+-------------+--------------+\n",
      "|     vipul|    shete|  beed| 702085447|vipulshete@gmail.com|           1|   Mech|    Technical|     702085447|\n",
      "|   vaibhav|    shete|mumbai|9665281201|vaibhavshete@gmai...|           0|     IT|    Technical|          True|\n",
      "|       ram|   shinde|  beed|      null|                null|           0|  B.com|Non-Technical|          null|\n",
      "|      null|    joshi|  pune|8484756892|   shubham@gmail.com|        null|    Law|Non-Technical|          True|\n",
      "|      null|   jadhav|mumbai|    598564|  pavanjad@gmail.com|           1|     IT|    Technical|        598564|\n",
      "|     pavan|     null|  beed|4311222265|  pavanjad@gmail.com|        null|Teacher|Non-Technical|    4311222265|\n",
      "|      lisa|     dash|mumbai|      null|  lisadash@gmail.com|           1|     IT|    Technical|          null|\n",
      "|      null|   shinde|  pune|8484891290|                null|           0|     CS|    Technical|          True|\n",
      "|    smarth|    shete|mumbai|8484892448|    smarth@gmail.com|           1|    EEE|    Technical|          True|\n",
      "|     rahul|    shete|  pune|      null|     rahul@gmail.com|        null|   Mech|    Technical|          null|\n",
      "|    vishal|    shete|  beed|      null|    vishal@gmail.com|           1|     CE|    Technical|          null|\n",
      "|      renu|    gonde|  beed|      null| renugonde@gmail.com|           0|     IT|    Technical|          null|\n",
      "|      sham|     null|  pune|7845845698|      sham@gmail.com|           0|   Mech|    Technical|          True|\n",
      "|      null| birajdar|   hyd|      null|    ajay87@gmail.com|           1|     CE|    Technical|          null|\n",
      "|      null|    gadge|  pune|7896541236|                null|        null|   null|         null|          True|\n",
      "+----------+---------+------+----------+--------------------+------------+-------+-------------+--------------+\n",
      "\n"
     ]
    }
   ],
   "source": [
    "phone_no_2 = phone_no_1.select(\"*\", f.regexp_replace(f.col(\"mobile_no\"), \"[0/91]?[6789]{1}[0-9]{9}$\", \"True\").alias(\"correct_mobile\"))  \n",
    "phone_no_2.show()"
   ]
  },
  {
   "cell_type": "code",
   "execution_count": 79,
   "metadata": {},
   "outputs": [
    {
     "name": "stdout",
     "output_type": "stream",
     "text": [
      "+----------+---------+------+----------+--------------------+------------+------+-------------+--------------+\n",
      "|first_name|last_name|  city| mobile_no|               email|Is_mail_send|Stream|Type_of_strem|correct_mobile|\n",
      "+----------+---------+------+----------+--------------------+------------+------+-------------+--------------+\n",
      "|   vaibhav|    shete|mumbai|9665281201|vaibhavshete@gmai...|           0|    IT|    Technical|          True|\n",
      "|      null|    joshi|  pune|8484756892|   shubham@gmail.com|        null|   Law|Non-Technical|          True|\n",
      "|      null|   shinde|  pune|8484891290|                null|           0|    CS|    Technical|          True|\n",
      "|    smarth|    shete|mumbai|8484892448|    smarth@gmail.com|           1|   EEE|    Technical|          True|\n",
      "|      sham|     null|  pune|7845845698|      sham@gmail.com|           0|  Mech|    Technical|          True|\n",
      "|      null|    gadge|  pune|7896541236|                null|        null|  null|         null|          True|\n",
      "+----------+---------+------+----------+--------------------+------------+------+-------------+--------------+\n",
      "\n"
     ]
    }
   ],
   "source": [
    "phone_no_3 = phone_no_2.filter(phone_no_2.correct_mobile=='True')\n",
    "phone_no_3.show()"
   ]
  },
  {
   "cell_type": "code",
   "execution_count": 80,
   "metadata": {},
   "outputs": [
    {
     "name": "stdout",
     "output_type": "stream",
     "text": [
      "+----------+---------+------+----------+--------------------+------------+------+-------------+\n",
      "|first_name|last_name|  city| mobile_no|               email|Is_mail_send|Stream|Type_of_strem|\n",
      "+----------+---------+------+----------+--------------------+------------+------+-------------+\n",
      "|   vaibhav|    shete|mumbai|9665281201|vaibhavshete@gmai...|           0|    IT|    Technical|\n",
      "|      null|    joshi|  pune|8484756892|   shubham@gmail.com|        null|   Law|Non-Technical|\n",
      "|      null|   shinde|  pune|8484891290|                null|           0|    CS|    Technical|\n",
      "|    smarth|    shete|mumbai|8484892448|    smarth@gmail.com|           1|   EEE|    Technical|\n",
      "|      sham|     null|  pune|7845845698|      sham@gmail.com|           0|  Mech|    Technical|\n",
      "|      null|    gadge|  pune|7896541236|                null|        null|  null|         null|\n",
      "+----------+---------+------+----------+--------------------+------------+------+-------------+\n",
      "\n"
     ]
    }
   ],
   "source": [
    "validate_phone = phone_no_3.select('first_name', 'last_name', 'city', 'mobile_no', 'email', \"Is_mail_send\", \"Stream\", \"Type_of_strem\")\n",
    "validate_phone.show()"
   ]
  },
  {
   "cell_type": "code",
   "execution_count": 81,
   "metadata": {},
   "outputs": [
    {
     "name": "stdout",
     "output_type": "stream",
     "text": [
      "+----------+---------+------+----------+--------------------+------------+-------+-------------+\n",
      "|first_name|last_name|  city| mobile_no|               email|Is_mail_send| Stream|Type_of_strem|\n",
      "+----------+---------+------+----------+--------------------+------------+-------+-------------+\n",
      "|     vipul|    shete|  beed|8484891290|vipulshete@gmail.com|           1|   Mech|    Technical|\n",
      "|     pavan|     null|  beed|8484895260|  pavanjad@gmail.com|        null|Teacher|Non-Technical|\n",
      "|    smarth|    shete|mumbai|8756987845|    smarth@gmail.com|           1|    EEE|    Technical|\n",
      "|      renu|    gonde|  beed|8484891290| renugonde@gmail.com|           0|     IT|    Technical|\n",
      "|      null| birajdar|   hyd|7020145875|    ajay87@gmail.com|           1|     CE|    Technical|\n",
      "|   vaibhav|    shete|mumbai|9665281201|vaibhavshete@gmai...|           0|     IT|    Technical|\n",
      "|      null|    joshi|  pune|8484756892|   shubham@gmail.com|        null|    Law|Non-Technical|\n",
      "|      null|   shinde|  pune|8484891290|                null|           0|     CS|    Technical|\n",
      "|    smarth|    shete|mumbai|8484892448|    smarth@gmail.com|           1|    EEE|    Technical|\n",
      "|      sham|     null|  pune|7845845698|      sham@gmail.com|           0|   Mech|    Technical|\n",
      "|      null|    gadge|  pune|7896541236|                null|        null|   null|         null|\n",
      "+----------+---------+------+----------+--------------------+------------+-------+-------------+\n",
      "\n"
     ]
    }
   ],
   "source": [
    "validate_number = validate_mobile.union(validate_phone)\n",
    "validate_number.show()"
   ]
  },
  {
   "cell_type": "code",
   "execution_count": 83,
   "metadata": {},
   "outputs": [
    {
     "name": "stdout",
     "output_type": "stream",
     "text": [
      "+----------+---------+------+----------+----------------------+------------+-------+-------------+\n",
      "|first_name|last_name|city  |mobile_no |email                 |Is_mail_send|Stream |Type_of_strem|\n",
      "+----------+---------+------+----------+----------------------+------------+-------+-------------+\n",
      "|null      |birajdar |hyd   |7020145875|ajay87@gmail.com      |1           |CE     |Technical    |\n",
      "|sham      |null     |pune  |7845845698|sham@gmail.com        |0           |Mech   |Technical    |\n",
      "|null      |gadge    |pune  |7896541236|null                  |null        |null   |null         |\n",
      "|null      |joshi    |pune  |8484756892|shubham@gmail.com     |null        |Law    |Non-Technical|\n",
      "|vipul     |shete    |beed  |8484891290|vipulshete@gmail.com  |1           |Mech   |Technical    |\n",
      "|smarth    |shete    |mumbai|8484892448|smarth@gmail.com      |1           |EEE    |Technical    |\n",
      "|pavan     |null     |beed  |8484895260|pavanjad@gmail.com    |null        |Teacher|Non-Technical|\n",
      "|smarth    |shete    |mumbai|8756987845|smarth@gmail.com      |1           |EEE    |Technical    |\n",
      "|vaibhav   |shete    |mumbai|9665281201|vaibhavshete@gmail.com|0           |IT     |Technical    |\n",
      "+----------+---------+------+----------+----------------------+------------+-------+-------------+\n",
      "\n"
     ]
    }
   ],
   "source": [
    "## unique mobile number\n",
    "\n",
    "drop_duplicate_number = validate_number.drop_duplicates([\"mobile_no\"])\n",
    "drop_duplicate_number.show(truncate=False)\n"
   ]
  },
  {
   "cell_type": "code",
   "execution_count": 84,
   "metadata": {},
   "outputs": [
    {
     "name": "stdout",
     "output_type": "stream",
     "text": [
      "+----------+---------+------+----------+--------------------+------------+-------+-------------+------------+\n",
      "|first_name|last_name|  city| mobile_no|               email|Is_mail_send| Stream|Type_of_strem|country_code|\n",
      "+----------+---------+------+----------+--------------------+------------+-------+-------------+------------+\n",
      "|      null| birajdar|   hyd|7020145875|    ajay87@gmail.com|           1|     CE|    Technical|         +91|\n",
      "|      sham|     null|  pune|7845845698|      sham@gmail.com|           0|   Mech|    Technical|         +91|\n",
      "|      null|    gadge|  pune|7896541236|                null|        null|   null|         null|         +91|\n",
      "|      null|    joshi|  pune|8484756892|   shubham@gmail.com|        null|    Law|Non-Technical|         +91|\n",
      "|     vipul|    shete|  beed|8484891290|vipulshete@gmail.com|           1|   Mech|    Technical|         +91|\n",
      "|    smarth|    shete|mumbai|8484892448|    smarth@gmail.com|           1|    EEE|    Technical|         +91|\n",
      "|     pavan|     null|  beed|8484895260|  pavanjad@gmail.com|        null|Teacher|Non-Technical|         +91|\n",
      "|    smarth|    shete|mumbai|8756987845|    smarth@gmail.com|           1|    EEE|    Technical|         +91|\n",
      "|   vaibhav|    shete|mumbai|9665281201|vaibhavshete@gmai...|           0|     IT|    Technical|         +91|\n",
      "+----------+---------+------+----------+--------------------+------------+-------+-------------+------------+\n",
      "\n"
     ]
    }
   ],
   "source": [
    "country_code=drop_duplicate_number.withColumn(\"country_code\", f.lit('+91'))\n",
    "country_code.show()\n"
   ]
  },
  {
   "cell_type": "code",
   "execution_count": 85,
   "metadata": {},
   "outputs": [
    {
     "name": "stdout",
     "output_type": "stream",
     "text": [
      "+----------+---------+------+----------+--------------------+------------+-------+-------------+------------+----------------------------+\n",
      "|first_name|last_name|  city| mobile_no|               email|Is_mail_send| Stream|Type_of_strem|country_code|countery_code_with_mobile_no|\n",
      "+----------+---------+------+----------+--------------------+------------+-------+-------------+------------+----------------------------+\n",
      "|      null| birajdar|   hyd|7020145875|    ajay87@gmail.com|           1|     CE|    Technical|         +91|              +91 7020145875|\n",
      "|      sham|     null|  pune|7845845698|      sham@gmail.com|           0|   Mech|    Technical|         +91|              +91 7845845698|\n",
      "|      null|    gadge|  pune|7896541236|                null|        null|   null|         null|         +91|              +91 7896541236|\n",
      "|      null|    joshi|  pune|8484756892|   shubham@gmail.com|        null|    Law|Non-Technical|         +91|              +91 8484756892|\n",
      "|     vipul|    shete|  beed|8484891290|vipulshete@gmail.com|           1|   Mech|    Technical|         +91|              +91 8484891290|\n",
      "|    smarth|    shete|mumbai|8484892448|    smarth@gmail.com|           1|    EEE|    Technical|         +91|              +91 8484892448|\n",
      "|     pavan|     null|  beed|8484895260|  pavanjad@gmail.com|        null|Teacher|Non-Technical|         +91|              +91 8484895260|\n",
      "|    smarth|    shete|mumbai|8756987845|    smarth@gmail.com|           1|    EEE|    Technical|         +91|              +91 8756987845|\n",
      "|   vaibhav|    shete|mumbai|9665281201|vaibhavshete@gmai...|           0|     IT|    Technical|         +91|              +91 9665281201|\n",
      "+----------+---------+------+----------+--------------------+------------+-------+-------------+------------+----------------------------+\n",
      "\n"
     ]
    }
   ],
   "source": [
    "final_contacts=country_code.select(\"*\", concat(col(\"country_code\"),lit(\" \"),col(\"mobile_no\")).alias(\"countery_code_with_mobile_no\"))\n",
    "final_contacts.show()"
   ]
  },
  {
   "cell_type": "code",
   "execution_count": 86,
   "metadata": {},
   "outputs": [
    {
     "name": "stdout",
     "output_type": "stream",
     "text": [
      "+----------+---------+------+----------------------------+----------------------+------------+-------+-------------+\n",
      "|first_name|last_name|city  |countery_code_with_mobile_no|email                 |Is_mail_send|Stream |Type_of_strem|\n",
      "+----------+---------+------+----------------------------+----------------------+------------+-------+-------------+\n",
      "|null      |birajdar |hyd   |+91 7020145875              |ajay87@gmail.com      |1           |CE     |Technical    |\n",
      "|sham      |null     |pune  |+91 7845845698              |sham@gmail.com        |0           |Mech   |Technical    |\n",
      "|null      |gadge    |pune  |+91 7896541236              |null                  |null        |null   |null         |\n",
      "|null      |joshi    |pune  |+91 8484756892              |shubham@gmail.com     |null        |Law    |Non-Technical|\n",
      "|vipul     |shete    |beed  |+91 8484891290              |vipulshete@gmail.com  |1           |Mech   |Technical    |\n",
      "|smarth    |shete    |mumbai|+91 8484892448              |smarth@gmail.com      |1           |EEE    |Technical    |\n",
      "|pavan     |null     |beed  |+91 8484895260              |pavanjad@gmail.com    |null        |Teacher|Non-Technical|\n",
      "|smarth    |shete    |mumbai|+91 8756987845              |smarth@gmail.com      |1           |EEE    |Technical    |\n",
      "|vaibhav   |shete    |mumbai|+91 9665281201              |vaibhavshete@gmail.com|0           |IT     |Technical    |\n",
      "+----------+---------+------+----------------------------+----------------------+------------+-------+-------------+\n",
      "\n"
     ]
    }
   ],
   "source": [
    "contacts = final_contacts.select('first_name', 'last_name', 'city', 'countery_code_with_mobile_no', 'email', \"Is_mail_send\", \"Stream\", \"Type_of_strem\")\n",
    "contacts.show(truncate=False)"
   ]
  },
  {
   "cell_type": "code",
   "execution_count": 87,
   "metadata": {},
   "outputs": [
    {
     "name": "stderr",
     "output_type": "stream",
     "text": [
      "[Stage 91:>                                                         (0 + 1) / 1]\r"
     ]
    },
    {
     "name": "stdout",
     "output_type": "stream",
     "text": [
      "+------------------------------------+----------+---------+------+----------------------------+----------------------+------------+-------+-------------+\n",
      "|id                                  |first_name|last_name|city  |countery_code_with_mobile_no|email                 |Is_mail_send|Stream |Type_of_strem|\n",
      "+------------------------------------+----------+---------+------+----------------------------+----------------------+------------+-------+-------------+\n",
      "|67de2a35-8714-4722-92b9-55cdda87c43a|null      |birajdar |hyd   |+91 7020145875              |ajay87@gmail.com      |1           |CE     |Technical    |\n",
      "|50417d00-7df9-4e83-916a-87c1f7fc87db|sham      |null     |pune  |+91 7845845698              |sham@gmail.com        |0           |Mech   |Technical    |\n",
      "|0643b670-209f-4db0-bbe7-65d14514b5dc|null      |gadge    |pune  |+91 7896541236              |null                  |null        |null   |null         |\n",
      "|908b0890-3ec3-46c9-aa12-5c0cc63d04a9|null      |joshi    |pune  |+91 8484756892              |shubham@gmail.com     |null        |Law    |Non-Technical|\n",
      "|1b2dce57-f763-4a6b-bf5d-acd7fb7a7807|vipul     |shete    |beed  |+91 8484891290              |vipulshete@gmail.com  |1           |Mech   |Technical    |\n",
      "|ad29f079-cbf2-4140-9160-3b0756279da7|smarth    |shete    |mumbai|+91 8484892448              |smarth@gmail.com      |1           |EEE    |Technical    |\n",
      "|c8a9e1cf-265e-48e3-bbc9-930d2dd7fc36|pavan     |null     |beed  |+91 8484895260              |pavanjad@gmail.com    |null        |Teacher|Non-Technical|\n",
      "|d5a59188-8dd0-493d-b343-342e51fe6da0|smarth    |shete    |mumbai|+91 8756987845              |smarth@gmail.com      |1           |EEE    |Technical    |\n",
      "|7fc8e7b3-7818-4803-995a-30982fc024d1|vaibhav   |shete    |mumbai|+91 9665281201              |vaibhavshete@gmail.com|0           |IT     |Technical    |\n",
      "+------------------------------------+----------+---------+------+----------------------------+----------------------+------------+-------+-------------+\n",
      "\n"
     ]
    },
    {
     "name": "stderr",
     "output_type": "stream",
     "text": [
      "                                                                                \r"
     ]
    }
   ],
   "source": [
    "try:\n",
    "    id = []\n",
    "    for i in range(contacts.count()):\n",
    "        id.append(str(uuid.uuid4()))\n",
    "    contact_df = contacts.repartition(1).withColumn('id',f.udf(lambda x: id[x])(f.monotonically_increasing_id()))\n",
    "\n",
    "    contact_df = contact_df.select('id','first_name','last_name','city','countery_code_with_mobile_no','email', \"Is_mail_send\", \"Stream\", \"Type_of_strem\")\n",
    "    contact_df.show(truncate=False)\n",
    "except Exception as e:\n",
    "    print(e)"
   ]
  },
  {
   "attachments": {},
   "cell_type": "markdown",
   "metadata": {},
   "source": [
    "## load table to mysql database"
   ]
  },
  {
   "cell_type": "code",
   "execution_count": 133,
   "metadata": {},
   "outputs": [
    {
     "name": "stderr",
     "output_type": "stream",
     "text": [
      "Loading class `com.mysql.jdbc.Driver'. This is deprecated. The new driver class is `com.mysql.cj.jdbc.Driver'. The driver is automatically registered via the SPI and manual loading of the driver class is generally unnecessary.\n",
      "                                                                                \r"
     ]
    }
   ],
   "source": [
    "contact_df.write.format('jdbc').options(\n",
    "      url='jdbc:mysql://localhost/my_first_db',\n",
    "      driver='com.mysql.jdbc.Driver',\n",
    "      dbtable='contacts_encoding',\n",
    "      user='root',\n",
    "      password='Vaibhav@123').mode('append').save()"
   ]
  }
 ],
 "metadata": {
  "kernelspec": {
   "display_name": "Python 3",
   "language": "python",
   "name": "python3"
  },
  "language_info": {
   "codemirror_mode": {
    "name": "ipython",
    "version": 3
   },
   "file_extension": ".py",
   "mimetype": "text/x-python",
   "name": "python",
   "nbconvert_exporter": "python",
   "pygments_lexer": "ipython3",
   "version": "3.8.10"
  },
  "orig_nbformat": 4,
  "vscode": {
   "interpreter": {
    "hash": "e7370f93d1d0cde622a1f8e1c04877d8463912d04d973331ad4851f04de6915a"
   }
  }
 },
 "nbformat": 4,
 "nbformat_minor": 2
}
