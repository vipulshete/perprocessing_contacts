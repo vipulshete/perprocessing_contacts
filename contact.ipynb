{
 "cells": [
  {
   "cell_type": "code",
   "execution_count": 24,
   "metadata": {},
   "outputs": [
    {
     "data": {
      "text/plain": [
       "'\\n    @Author: Vipul Shete\\n    @Date: 2022-12-20\\n    @Last Modified by: Vipul Shete\\n    @Last Modified Date: 2022-12-20\\n    @Title : Cleaning of mobile and phone number in contact list (UC-1) .\\n'"
      ]
     },
     "execution_count": 24,
     "metadata": {},
     "output_type": "execute_result"
    }
   ],
   "source": [
    "\"\"\"\n",
    "    @Author: Vipul Shete\n",
    "    @Date: 2022-12-20\n",
    "    @Last Modified by: Vipul Shete\n",
    "    @Last Modified Date: 2022-12-20\n",
    "    @Title : Cleaning of mobile and phone number in contact list (UC-1) .\n",
    "\"\"\""
   ]
  },
  {
   "cell_type": "code",
   "execution_count": 56,
   "metadata": {},
   "outputs": [],
   "source": [
    "import pyspark\n",
    "from pyspark.sql import SparkSession\n",
    "from pyspark.sql import Row\n",
    "from pyspark import SparkContext\n",
    "from pyspark.sql.functions import concat, lit, col\n",
    "from pyspark.sql import SparkSession\n",
    "from pyspark.sql.types import StructType,StructField, StringType, IntegerType\n",
    "from pyspark.sql.types import *\n",
    "import pyspark.sql.functions as f\n",
    "from pyspark.sql.functions import col\n",
    "import uuid\n",
    "\n",
    "spark = SparkSession.builder.config(\"spark.jars\", \"/home/hdoop_new/CFP/AWS/CFP/aws/contact/MySqlJdbcDriver/mysql-connector-j-8.0.31.jar\") \\\n",
    "    .master(\"local\") \\\n",
    "    .appName(\"PySpark_MySQL_test3\") \\\n",
    "    .getOrCreate()\n",
    "\n",
    "sc=spark.sparkContext"
   ]
  },
  {
   "cell_type": "code",
   "execution_count": 108,
   "metadata": {},
   "outputs": [],
   "source": [
    "data = spark.read.csv('contacts.csv', header=True)\n"
   ]
  },
  {
   "cell_type": "code",
   "execution_count": 109,
   "metadata": {},
   "outputs": [
    {
     "name": "stdout",
     "output_type": "stream",
     "text": [
      "+----------+---------+------+-----------+----------+--------------------+----------+-------+\n",
      "|first_name|last_name|  city|  mobile_no|  phone_no|               email|Is_email_s| Stream|\n",
      "+----------+---------+------+-----------+----------+--------------------+----------+-------+\n",
      "|     vipul|    shete|  beed| 8484891290| 702085447|vipulshete@gmail.com|       yes|   Mech|\n",
      "|   vaibhav|    shete|mumbai|70208524447|9665281201|vaibhavshete@gmai...|        no|     IT|\n",
      "|       ram|   shinde|  beed|     569856|      null| ramshinde@gmail.com|        no|  B.com|\n",
      "|   shubham|    joshi|  pune| 1234567892|8484756892|   shubham@gmail.com|      null|    Law|\n",
      "|   kailash|   jadhav|mumbai|       null|    598564|  pavanjad@gmail.com|       yes|     IT|\n",
      "|     pavan|    rasal|  beed| 8484895260|4311222265|  pavanjad@gmail.com|      null|Teacher|\n",
      "|      lisa|     dash|mumbai|    8569877|      null|  lisadash@gmail.com|       yes|     IT|\n",
      "|   tukaram|   shinde|  pune|       null|8484891290|   tukaram@gmail.com|        no|     CS|\n",
      "|    smarth|    shete|mumbai| 8756987845|8484892448|    smarth@gmail.com|       yes|    EEE|\n",
      "|     rahul|    shete|  pune|   56987568|      null|     rahul@gmail.com|      null|   Mech|\n",
      "|    vishal|    shete|  beed|       null|      null|    vishal@gmail.com|       yes|     CE|\n",
      "|      renu|    gonde|  beed| 8484891290|      null| renugonde@gmail.com|        no|     IT|\n",
      "+----------+---------+------+-----------+----------+--------------------+----------+-------+\n",
      "\n"
     ]
    }
   ],
   "source": [
    "data.show()"
   ]
  },
  {
   "attachments": {},
   "cell_type": "markdown",
   "metadata": {},
   "source": [
    "## encoding Is_email and branch"
   ]
  },
  {
   "cell_type": "code",
   "execution_count": 100,
   "metadata": {},
   "outputs": [],
   "source": [
    "is_mail = spark.read.json(\"email_code.json\")\n",
    "mail = is_mail.collect()[0]"
   ]
  },
  {
   "cell_type": "code",
   "execution_count": 113,
   "metadata": {},
   "outputs": [
    {
     "name": "stdout",
     "output_type": "stream",
     "text": [
      "+----------+---------+------+-----------+----------+--------------------+----------+-------+------------+\n",
      "|first_name|last_name|  city|  mobile_no|  phone_no|               email|Is_email_s| Stream|Is_mail_send|\n",
      "+----------+---------+------+-----------+----------+--------------------+----------+-------+------------+\n",
      "|     vipul|    shete|  beed| 8484891290| 702085447|vipulshete@gmail.com|       yes|   Mech|           1|\n",
      "|   vaibhav|    shete|mumbai|70208524447|9665281201|vaibhavshete@gmai...|        no|     IT|           0|\n",
      "|       ram|   shinde|  beed|     569856|      null| ramshinde@gmail.com|        no|  B.com|           0|\n",
      "|   shubham|    joshi|  pune| 1234567892|8484756892|   shubham@gmail.com|      null|    Law|        null|\n",
      "|   kailash|   jadhav|mumbai|       null|    598564|  pavanjad@gmail.com|       yes|     IT|           1|\n",
      "|     pavan|    rasal|  beed| 8484895260|4311222265|  pavanjad@gmail.com|      null|Teacher|        null|\n",
      "|      lisa|     dash|mumbai|    8569877|      null|  lisadash@gmail.com|       yes|     IT|           1|\n",
      "|   tukaram|   shinde|  pune|       null|8484891290|   tukaram@gmail.com|        no|     CS|           0|\n",
      "|    smarth|    shete|mumbai| 8756987845|8484892448|    smarth@gmail.com|       yes|    EEE|           1|\n",
      "|     rahul|    shete|  pune|   56987568|      null|     rahul@gmail.com|      null|   Mech|        null|\n",
      "|    vishal|    shete|  beed|       null|      null|    vishal@gmail.com|       yes|     CE|           1|\n",
      "|      renu|    gonde|  beed| 8484891290|      null| renugonde@gmail.com|        no|     IT|           0|\n",
      "+----------+---------+------+-----------+----------+--------------------+----------+-------+------------+\n",
      "\n"
     ]
    }
   ],
   "source": [
    "## replace value in IS_mail column\n",
    "\n",
    "send_mail_send = data.withColumn(\"Is_mail_send\", \n",
    "    f.when(data.Is_email_s==\"yes\", is_mail.collect()[0][1]) \\\n",
    "   .when(data.Is_email_s==\"no\", is_mail.collect()[0][0]) \\\n",
    "   .otherwise(data.Is_email_s)) \n",
    "send_mail_send.show()"
   ]
  },
  {
   "cell_type": "code",
   "execution_count": 103,
   "metadata": {},
   "outputs": [
    {
     "name": "stderr",
     "output_type": "stream",
     "text": [
      "                                                                                \r"
     ]
    },
    {
     "data": {
      "text/plain": [
       "Row(B.com='Non-Technical', CE='Technical', CS='Technical', EEE='Technical', IT='Technical', Law='Non-Technical', Mech='Technical', Teacher='Non-Technical')"
      ]
     },
     "execution_count": 103,
     "metadata": {},
     "output_type": "execute_result"
    }
   ],
   "source": [
    "stream = spark.read.json(\"stream_code.json\")\n",
    "stream_encoding = stream.collect()[0]\n",
    "stream_encoding"
   ]
  },
  {
   "cell_type": "code",
   "execution_count": 114,
   "metadata": {},
   "outputs": [
    {
     "name": "stdout",
     "output_type": "stream",
     "text": [
      "+----------+---------+------+-----------+----------+--------------------+----------+-------+------------+-------------+\n",
      "|first_name|last_name|  city|  mobile_no|  phone_no|               email|Is_email_s| Stream|Is_mail_send|Type_of_strem|\n",
      "+----------+---------+------+-----------+----------+--------------------+----------+-------+------------+-------------+\n",
      "|     vipul|    shete|  beed| 8484891290| 702085447|vipulshete@gmail.com|       yes|   Mech|           1|    Technical|\n",
      "|   vaibhav|    shete|mumbai|70208524447|9665281201|vaibhavshete@gmai...|        no|     IT|           0|    Technical|\n",
      "|       ram|   shinde|  beed|     569856|      null| ramshinde@gmail.com|        no|  B.com|           0|Non-Technical|\n",
      "|   shubham|    joshi|  pune| 1234567892|8484756892|   shubham@gmail.com|      null|    Law|        null|Non-Technical|\n",
      "|   kailash|   jadhav|mumbai|       null|    598564|  pavanjad@gmail.com|       yes|     IT|           1|    Technical|\n",
      "|     pavan|    rasal|  beed| 8484895260|4311222265|  pavanjad@gmail.com|      null|Teacher|        null|Non-Technical|\n",
      "|      lisa|     dash|mumbai|    8569877|      null|  lisadash@gmail.com|       yes|     IT|           1|    Technical|\n",
      "|   tukaram|   shinde|  pune|       null|8484891290|   tukaram@gmail.com|        no|     CS|           0|    Technical|\n",
      "|    smarth|    shete|mumbai| 8756987845|8484892448|    smarth@gmail.com|       yes|    EEE|           1|    Technical|\n",
      "|     rahul|    shete|  pune|   56987568|      null|     rahul@gmail.com|      null|   Mech|        null|    Technical|\n",
      "|    vishal|    shete|  beed|       null|      null|    vishal@gmail.com|       yes|     CE|           1|    Technical|\n",
      "|      renu|    gonde|  beed| 8484891290|      null| renugonde@gmail.com|        no|     IT|           0|    Technical|\n",
      "+----------+---------+------+-----------+----------+--------------------+----------+-------+------------+-------------+\n",
      "\n"
     ]
    }
   ],
   "source": [
    "## replace value in Branch column\n",
    "\n",
    "stream_type = send_mail_send.withColumn(\"Type_of_strem\", \n",
    "    f.when(data.Stream==\"B.com\", stream_encoding[0]) \\\n",
    "   .when(data.Stream==\"CE\", stream_encoding[1]) \\\n",
    "    .when(data.Stream==\"CS\", stream_encoding[2]) \\\n",
    "    .when(data.Stream==\"EEE\", stream_encoding[3]) \\\n",
    "    .when(data.Stream==\"IT\", stream_encoding[4]) \\\n",
    "    .when(data.Stream==\"Law\", stream_encoding[5]) \\\n",
    "    .when(data.Stream==\"Mech\", stream_encoding[6]) \\\n",
    "    .when(data.Stream==\"Teacher\", stream_encoding[7]) \\\n",
    "    .otherwise(data.Stream)) \n",
    "stream_type.show()"
   ]
  },
  {
   "cell_type": "code",
   "execution_count": 116,
   "metadata": {},
   "outputs": [
    {
     "name": "stdout",
     "output_type": "stream",
     "text": [
      "+----------+---------+------+-----------+----------+--------------------+------------+-------+-------------+\n",
      "|first_name|last_name|  city|  mobile_no|  phone_no|               email|Is_mail_send| Stream|Type_of_strem|\n",
      "+----------+---------+------+-----------+----------+--------------------+------------+-------+-------------+\n",
      "|     vipul|    shete|  beed| 8484891290| 702085447|vipulshete@gmail.com|           1|   Mech|    Technical|\n",
      "|   vaibhav|    shete|mumbai|70208524447|9665281201|vaibhavshete@gmai...|           0|     IT|    Technical|\n",
      "|       ram|   shinde|  beed|     569856|      null| ramshinde@gmail.com|           0|  B.com|Non-Technical|\n",
      "|   shubham|    joshi|  pune| 1234567892|8484756892|   shubham@gmail.com|        null|    Law|Non-Technical|\n",
      "|   kailash|   jadhav|mumbai|       null|    598564|  pavanjad@gmail.com|           1|     IT|    Technical|\n",
      "|     pavan|    rasal|  beed| 8484895260|4311222265|  pavanjad@gmail.com|        null|Teacher|Non-Technical|\n",
      "|      lisa|     dash|mumbai|    8569877|      null|  lisadash@gmail.com|           1|     IT|    Technical|\n",
      "|   tukaram|   shinde|  pune|       null|8484891290|   tukaram@gmail.com|           0|     CS|    Technical|\n",
      "|    smarth|    shete|mumbai| 8756987845|8484892448|    smarth@gmail.com|           1|    EEE|    Technical|\n",
      "|     rahul|    shete|  pune|   56987568|      null|     rahul@gmail.com|        null|   Mech|    Technical|\n",
      "|    vishal|    shete|  beed|       null|      null|    vishal@gmail.com|           1|     CE|    Technical|\n",
      "|      renu|    gonde|  beed| 8484891290|      null| renugonde@gmail.com|           0|     IT|    Technical|\n",
      "+----------+---------+------+-----------+----------+--------------------+------------+-------+-------------+\n",
      "\n"
     ]
    }
   ],
   "source": [
    "# select columns\n",
    "\n",
    "map_columns = stream_type.select(\"first_name\", \"last_name\", \"city\", \"mobile_no\", \"phone_no\", \"email\", \"Is_mail_send\", \"Stream\", \"Type_of_strem\") \n",
    "map_columns.show()"
   ]
  },
  {
   "cell_type": "code",
   "execution_count": null,
   "metadata": {},
   "outputs": [],
   "source": []
  },
  {
   "cell_type": "code",
   "execution_count": 117,
   "metadata": {},
   "outputs": [
    {
     "name": "stdout",
     "output_type": "stream",
     "text": [
      "+----------+---------+------+-----------+----------+--------------------+------------+-------+-------------+--------------+\n",
      "|first_name|last_name|  city|  mobile_no|  phone_no|               email|Is_mail_send| Stream|Type_of_strem|correct_mobile|\n",
      "+----------+---------+------+-----------+----------+--------------------+------------+-------+-------------+--------------+\n",
      "|     vipul|    shete|  beed| 8484891290| 702085447|vipulshete@gmail.com|           1|   Mech|    Technical|          True|\n",
      "|   vaibhav|    shete|mumbai|70208524447|9665281201|vaibhavshete@gmai...|           0|     IT|    Technical|   70208524447|\n",
      "|       ram|   shinde|  beed|     569856|      null| ramshinde@gmail.com|           0|  B.com|Non-Technical|        569856|\n",
      "|   shubham|    joshi|  pune| 1234567892|8484756892|   shubham@gmail.com|        null|    Law|Non-Technical|    1234567892|\n",
      "|   kailash|   jadhav|mumbai|       null|    598564|  pavanjad@gmail.com|           1|     IT|    Technical|          null|\n",
      "|     pavan|    rasal|  beed| 8484895260|4311222265|  pavanjad@gmail.com|        null|Teacher|Non-Technical|          True|\n",
      "|      lisa|     dash|mumbai|    8569877|      null|  lisadash@gmail.com|           1|     IT|    Technical|       8569877|\n",
      "|   tukaram|   shinde|  pune|       null|8484891290|   tukaram@gmail.com|           0|     CS|    Technical|          null|\n",
      "|    smarth|    shete|mumbai| 8756987845|8484892448|    smarth@gmail.com|           1|    EEE|    Technical|          True|\n",
      "|     rahul|    shete|  pune|   56987568|      null|     rahul@gmail.com|        null|   Mech|    Technical|      56987568|\n",
      "|    vishal|    shete|  beed|       null|      null|    vishal@gmail.com|           1|     CE|    Technical|          null|\n",
      "|      renu|    gonde|  beed| 8484891290|      null| renugonde@gmail.com|           0|     IT|    Technical|          True|\n",
      "+----------+---------+------+-----------+----------+--------------------+------------+-------+-------------+--------------+\n",
      "\n"
     ]
    }
   ],
   "source": [
    "mobile_no = map_columns.select(\"*\", f.regexp_replace(f.col(\"mobile_no\"), \"[0/91]?[6789]{1}[0-9]{9}$\", \"True\").alias(\"correct_mobile\"))  \n",
    "mobile_no.show()"
   ]
  },
  {
   "cell_type": "code",
   "execution_count": 118,
   "metadata": {},
   "outputs": [
    {
     "name": "stdout",
     "output_type": "stream",
     "text": [
      "+----------+---------+------+----------+----------+--------------------+------------+-------+-------------+--------------+\n",
      "|first_name|last_name|  city| mobile_no|  phone_no|               email|Is_mail_send| Stream|Type_of_strem|correct_mobile|\n",
      "+----------+---------+------+----------+----------+--------------------+------------+-------+-------------+--------------+\n",
      "|     vipul|    shete|  beed|8484891290| 702085447|vipulshete@gmail.com|           1|   Mech|    Technical|          True|\n",
      "|     pavan|    rasal|  beed|8484895260|4311222265|  pavanjad@gmail.com|        null|Teacher|Non-Technical|          True|\n",
      "|    smarth|    shete|mumbai|8756987845|8484892448|    smarth@gmail.com|           1|    EEE|    Technical|          True|\n",
      "|      renu|    gonde|  beed|8484891290|      null| renugonde@gmail.com|           0|     IT|    Technical|          True|\n",
      "+----------+---------+------+----------+----------+--------------------+------------+-------+-------------+--------------+\n",
      "\n"
     ]
    }
   ],
   "source": [
    "mobile_no_1 = mobile_no.filter(mobile_no.correct_mobile=='True')\n",
    "mobile_no_1.show()"
   ]
  },
  {
   "cell_type": "code",
   "execution_count": 119,
   "metadata": {},
   "outputs": [
    {
     "name": "stdout",
     "output_type": "stream",
     "text": [
      "+----------+---------+------+----------+--------------------+------------+-------+-------------+\n",
      "|first_name|last_name|  city| mobile_no|               email|Is_mail_send| Stream|Type_of_strem|\n",
      "+----------+---------+------+----------+--------------------+------------+-------+-------------+\n",
      "|     vipul|    shete|  beed|8484891290|vipulshete@gmail.com|           1|   Mech|    Technical|\n",
      "|     pavan|    rasal|  beed|8484895260|  pavanjad@gmail.com|        null|Teacher|Non-Technical|\n",
      "|    smarth|    shete|mumbai|8756987845|    smarth@gmail.com|           1|    EEE|    Technical|\n",
      "|      renu|    gonde|  beed|8484891290| renugonde@gmail.com|           0|     IT|    Technical|\n",
      "+----------+---------+------+----------+--------------------+------------+-------+-------------+\n",
      "\n"
     ]
    }
   ],
   "source": [
    "validate_mobile = mobile_no_1.select('first_name', 'last_name', 'city', 'mobile_no', 'email', \"Is_mail_send\", \"Stream\", \"Type_of_strem\")\n",
    "validate_mobile.show()"
   ]
  },
  {
   "cell_type": "code",
   "execution_count": 121,
   "metadata": {},
   "outputs": [
    {
     "name": "stdout",
     "output_type": "stream",
     "text": [
      "+----------+---------+------+----------+--------------------+------------+-------+-------------+\n",
      "|first_name|last_name|  city|  phone_no|               email|Is_mail_send| Stream|Type_of_strem|\n",
      "+----------+---------+------+----------+--------------------+------------+-------+-------------+\n",
      "|     vipul|    shete|  beed| 702085447|vipulshete@gmail.com|           1|   Mech|    Technical|\n",
      "|   vaibhav|    shete|mumbai|9665281201|vaibhavshete@gmai...|           0|     IT|    Technical|\n",
      "|       ram|   shinde|  beed|      null| ramshinde@gmail.com|           0|  B.com|Non-Technical|\n",
      "|   shubham|    joshi|  pune|8484756892|   shubham@gmail.com|        null|    Law|Non-Technical|\n",
      "|   kailash|   jadhav|mumbai|    598564|  pavanjad@gmail.com|           1|     IT|    Technical|\n",
      "|     pavan|    rasal|  beed|4311222265|  pavanjad@gmail.com|        null|Teacher|Non-Technical|\n",
      "|      lisa|     dash|mumbai|      null|  lisadash@gmail.com|           1|     IT|    Technical|\n",
      "|   tukaram|   shinde|  pune|8484891290|   tukaram@gmail.com|           0|     CS|    Technical|\n",
      "|    smarth|    shete|mumbai|8484892448|    smarth@gmail.com|           1|    EEE|    Technical|\n",
      "|     rahul|    shete|  pune|      null|     rahul@gmail.com|        null|   Mech|    Technical|\n",
      "|    vishal|    shete|  beed|      null|    vishal@gmail.com|           1|     CE|    Technical|\n",
      "|      renu|    gonde|  beed|      null| renugonde@gmail.com|           0|     IT|    Technical|\n",
      "+----------+---------+------+----------+--------------------+------------+-------+-------------+\n",
      "\n"
     ]
    }
   ],
   "source": [
    "phone_no = map_columns.select('first_name', 'last_name', 'city', 'phone_no', 'email', \"Is_mail_send\", \"Stream\", \"Type_of_strem\")\n",
    "phone_no.show()"
   ]
  },
  {
   "cell_type": "code",
   "execution_count": 122,
   "metadata": {},
   "outputs": [
    {
     "name": "stdout",
     "output_type": "stream",
     "text": [
      "+----------+---------+------+----------+--------------------+------------+-------+-------------+\n",
      "|first_name|last_name|  city| mobile_no|               email|Is_mail_send| Stream|Type_of_strem|\n",
      "+----------+---------+------+----------+--------------------+------------+-------+-------------+\n",
      "|     vipul|    shete|  beed| 702085447|vipulshete@gmail.com|           1|   Mech|    Technical|\n",
      "|   vaibhav|    shete|mumbai|9665281201|vaibhavshete@gmai...|           0|     IT|    Technical|\n",
      "|       ram|   shinde|  beed|      null| ramshinde@gmail.com|           0|  B.com|Non-Technical|\n",
      "|   shubham|    joshi|  pune|8484756892|   shubham@gmail.com|        null|    Law|Non-Technical|\n",
      "|   kailash|   jadhav|mumbai|    598564|  pavanjad@gmail.com|           1|     IT|    Technical|\n",
      "|     pavan|    rasal|  beed|4311222265|  pavanjad@gmail.com|        null|Teacher|Non-Technical|\n",
      "|      lisa|     dash|mumbai|      null|  lisadash@gmail.com|           1|     IT|    Technical|\n",
      "|   tukaram|   shinde|  pune|8484891290|   tukaram@gmail.com|           0|     CS|    Technical|\n",
      "|    smarth|    shete|mumbai|8484892448|    smarth@gmail.com|           1|    EEE|    Technical|\n",
      "|     rahul|    shete|  pune|      null|     rahul@gmail.com|        null|   Mech|    Technical|\n",
      "|    vishal|    shete|  beed|      null|    vishal@gmail.com|           1|     CE|    Technical|\n",
      "|      renu|    gonde|  beed|      null| renugonde@gmail.com|           0|     IT|    Technical|\n",
      "+----------+---------+------+----------+--------------------+------------+-------+-------------+\n",
      "\n"
     ]
    }
   ],
   "source": [
    "phone_no_1=phone_no.withColumnRenamed(\"phone_no\",\"mobile_no\")\n",
    "phone_no_1.show()"
   ]
  },
  {
   "cell_type": "code",
   "execution_count": 123,
   "metadata": {},
   "outputs": [
    {
     "name": "stdout",
     "output_type": "stream",
     "text": [
      "+----------+---------+------+----------+--------------------+------------+-------+-------------+--------------+\n",
      "|first_name|last_name|  city| mobile_no|               email|Is_mail_send| Stream|Type_of_strem|correct_mobile|\n",
      "+----------+---------+------+----------+--------------------+------------+-------+-------------+--------------+\n",
      "|     vipul|    shete|  beed| 702085447|vipulshete@gmail.com|           1|   Mech|    Technical|     702085447|\n",
      "|   vaibhav|    shete|mumbai|9665281201|vaibhavshete@gmai...|           0|     IT|    Technical|          True|\n",
      "|       ram|   shinde|  beed|      null| ramshinde@gmail.com|           0|  B.com|Non-Technical|          null|\n",
      "|   shubham|    joshi|  pune|8484756892|   shubham@gmail.com|        null|    Law|Non-Technical|          True|\n",
      "|   kailash|   jadhav|mumbai|    598564|  pavanjad@gmail.com|           1|     IT|    Technical|        598564|\n",
      "|     pavan|    rasal|  beed|4311222265|  pavanjad@gmail.com|        null|Teacher|Non-Technical|    4311222265|\n",
      "|      lisa|     dash|mumbai|      null|  lisadash@gmail.com|           1|     IT|    Technical|          null|\n",
      "|   tukaram|   shinde|  pune|8484891290|   tukaram@gmail.com|           0|     CS|    Technical|          True|\n",
      "|    smarth|    shete|mumbai|8484892448|    smarth@gmail.com|           1|    EEE|    Technical|          True|\n",
      "|     rahul|    shete|  pune|      null|     rahul@gmail.com|        null|   Mech|    Technical|          null|\n",
      "|    vishal|    shete|  beed|      null|    vishal@gmail.com|           1|     CE|    Technical|          null|\n",
      "|      renu|    gonde|  beed|      null| renugonde@gmail.com|           0|     IT|    Technical|          null|\n",
      "+----------+---------+------+----------+--------------------+------------+-------+-------------+--------------+\n",
      "\n"
     ]
    }
   ],
   "source": [
    "phone_no_2 = phone_no_1.select(\"*\", f.regexp_replace(f.col(\"mobile_no\"), \"[0/91]?[6789]{1}[0-9]{9}$\", \"True\").alias(\"correct_mobile\"))  \n",
    "phone_no_2.show()"
   ]
  },
  {
   "cell_type": "code",
   "execution_count": 124,
   "metadata": {},
   "outputs": [
    {
     "name": "stdout",
     "output_type": "stream",
     "text": [
      "+----------+---------+------+----------+--------------------+------------+------+-------------+--------------+\n",
      "|first_name|last_name|  city| mobile_no|               email|Is_mail_send|Stream|Type_of_strem|correct_mobile|\n",
      "+----------+---------+------+----------+--------------------+------------+------+-------------+--------------+\n",
      "|   vaibhav|    shete|mumbai|9665281201|vaibhavshete@gmai...|           0|    IT|    Technical|          True|\n",
      "|   shubham|    joshi|  pune|8484756892|   shubham@gmail.com|        null|   Law|Non-Technical|          True|\n",
      "|   tukaram|   shinde|  pune|8484891290|   tukaram@gmail.com|           0|    CS|    Technical|          True|\n",
      "|    smarth|    shete|mumbai|8484892448|    smarth@gmail.com|           1|   EEE|    Technical|          True|\n",
      "+----------+---------+------+----------+--------------------+------------+------+-------------+--------------+\n",
      "\n"
     ]
    }
   ],
   "source": [
    "phone_no_3 = phone_no_2.filter(phone_no_2.correct_mobile=='True')\n",
    "phone_no_3.show()"
   ]
  },
  {
   "cell_type": "code",
   "execution_count": 125,
   "metadata": {},
   "outputs": [
    {
     "name": "stdout",
     "output_type": "stream",
     "text": [
      "+----------+---------+------+----------+--------------------+------------+------+-------------+\n",
      "|first_name|last_name|  city| mobile_no|               email|Is_mail_send|Stream|Type_of_strem|\n",
      "+----------+---------+------+----------+--------------------+------------+------+-------------+\n",
      "|   vaibhav|    shete|mumbai|9665281201|vaibhavshete@gmai...|           0|    IT|    Technical|\n",
      "|   shubham|    joshi|  pune|8484756892|   shubham@gmail.com|        null|   Law|Non-Technical|\n",
      "|   tukaram|   shinde|  pune|8484891290|   tukaram@gmail.com|           0|    CS|    Technical|\n",
      "|    smarth|    shete|mumbai|8484892448|    smarth@gmail.com|           1|   EEE|    Technical|\n",
      "+----------+---------+------+----------+--------------------+------------+------+-------------+\n",
      "\n"
     ]
    }
   ],
   "source": [
    "validate_phone = phone_no_3.select('first_name', 'last_name', 'city', 'mobile_no', 'email', \"Is_mail_send\", \"Stream\", \"Type_of_strem\")\n",
    "validate_phone.show()"
   ]
  },
  {
   "cell_type": "code",
   "execution_count": 126,
   "metadata": {},
   "outputs": [
    {
     "name": "stdout",
     "output_type": "stream",
     "text": [
      "+----------+---------+------+----------+--------------------+------------+-------+-------------+\n",
      "|first_name|last_name|  city| mobile_no|               email|Is_mail_send| Stream|Type_of_strem|\n",
      "+----------+---------+------+----------+--------------------+------------+-------+-------------+\n",
      "|     vipul|    shete|  beed|8484891290|vipulshete@gmail.com|           1|   Mech|    Technical|\n",
      "|     pavan|    rasal|  beed|8484895260|  pavanjad@gmail.com|        null|Teacher|Non-Technical|\n",
      "|    smarth|    shete|mumbai|8756987845|    smarth@gmail.com|           1|    EEE|    Technical|\n",
      "|      renu|    gonde|  beed|8484891290| renugonde@gmail.com|           0|     IT|    Technical|\n",
      "|   vaibhav|    shete|mumbai|9665281201|vaibhavshete@gmai...|           0|     IT|    Technical|\n",
      "|   shubham|    joshi|  pune|8484756892|   shubham@gmail.com|        null|    Law|Non-Technical|\n",
      "|   tukaram|   shinde|  pune|8484891290|   tukaram@gmail.com|           0|     CS|    Technical|\n",
      "|    smarth|    shete|mumbai|8484892448|    smarth@gmail.com|           1|    EEE|    Technical|\n",
      "+----------+---------+------+----------+--------------------+------------+-------+-------------+\n",
      "\n"
     ]
    }
   ],
   "source": [
    "validate_number = validate_mobile.union(validate_phone)\n",
    "validate_number.show()"
   ]
  },
  {
   "cell_type": "code",
   "execution_count": 127,
   "metadata": {},
   "outputs": [
    {
     "name": "stderr",
     "output_type": "stream",
     "text": [
      "[Stage 193:>                                                        (0 + 1) / 2]\r"
     ]
    },
    {
     "name": "stdout",
     "output_type": "stream",
     "text": [
      "+----------+---------+------+----------+--------------------+------------+-------+-------------+\n",
      "|first_name|last_name|  city| mobile_no|               email|Is_mail_send| Stream|Type_of_strem|\n",
      "+----------+---------+------+----------+--------------------+------------+-------+-------------+\n",
      "|   shubham|    joshi|  pune|8484756892|   shubham@gmail.com|        null|    Law|Non-Technical|\n",
      "|     vipul|    shete|  beed|8484891290|vipulshete@gmail.com|           1|   Mech|    Technical|\n",
      "|    smarth|    shete|mumbai|8484892448|    smarth@gmail.com|           1|    EEE|    Technical|\n",
      "|     pavan|    rasal|  beed|8484895260|  pavanjad@gmail.com|        null|Teacher|Non-Technical|\n",
      "|    smarth|    shete|mumbai|8756987845|    smarth@gmail.com|           1|    EEE|    Technical|\n",
      "|   vaibhav|    shete|mumbai|9665281201|vaibhavshete@gmai...|           0|     IT|    Technical|\n",
      "+----------+---------+------+----------+--------------------+------------+-------+-------------+\n",
      "\n"
     ]
    },
    {
     "name": "stderr",
     "output_type": "stream",
     "text": [
      "                                                                                \r"
     ]
    }
   ],
   "source": [
    "## unique mobile number\n",
    "\n",
    "drop_duplicate_number = validate_number.drop_duplicates([\"mobile_no\"])\n",
    "drop_duplicate_number.show()\n"
   ]
  },
  {
   "cell_type": "code",
   "execution_count": 128,
   "metadata": {},
   "outputs": [
    {
     "name": "stdout",
     "output_type": "stream",
     "text": [
      "+----------+---------+------+----------+--------------------+------------+-------+-------------+------------+\n",
      "|first_name|last_name|  city| mobile_no|               email|Is_mail_send| Stream|Type_of_strem|country_code|\n",
      "+----------+---------+------+----------+--------------------+------------+-------+-------------+------------+\n",
      "|   shubham|    joshi|  pune|8484756892|   shubham@gmail.com|        null|    Law|Non-Technical|         +91|\n",
      "|     vipul|    shete|  beed|8484891290|vipulshete@gmail.com|           1|   Mech|    Technical|         +91|\n",
      "|    smarth|    shete|mumbai|8484892448|    smarth@gmail.com|           1|    EEE|    Technical|         +91|\n",
      "|     pavan|    rasal|  beed|8484895260|  pavanjad@gmail.com|        null|Teacher|Non-Technical|         +91|\n",
      "|    smarth|    shete|mumbai|8756987845|    smarth@gmail.com|           1|    EEE|    Technical|         +91|\n",
      "|   vaibhav|    shete|mumbai|9665281201|vaibhavshete@gmai...|           0|     IT|    Technical|         +91|\n",
      "+----------+---------+------+----------+--------------------+------------+-------+-------------+------------+\n",
      "\n"
     ]
    }
   ],
   "source": [
    "country_code=drop_duplicate_number.withColumn(\"country_code\", f.lit('+91'))\n",
    "country_code.show()\n"
   ]
  },
  {
   "cell_type": "code",
   "execution_count": 129,
   "metadata": {},
   "outputs": [
    {
     "name": "stdout",
     "output_type": "stream",
     "text": [
      "+----------+---------+------+----------+--------------------+------------+-------+-------------+------------+----------------------------+\n",
      "|first_name|last_name|  city| mobile_no|               email|Is_mail_send| Stream|Type_of_strem|country_code|countery_code_with_mobile_no|\n",
      "+----------+---------+------+----------+--------------------+------------+-------+-------------+------------+----------------------------+\n",
      "|   shubham|    joshi|  pune|8484756892|   shubham@gmail.com|        null|    Law|Non-Technical|         +91|              +91 8484756892|\n",
      "|     vipul|    shete|  beed|8484891290|vipulshete@gmail.com|           1|   Mech|    Technical|         +91|              +91 8484891290|\n",
      "|    smarth|    shete|mumbai|8484892448|    smarth@gmail.com|           1|    EEE|    Technical|         +91|              +91 8484892448|\n",
      "|     pavan|    rasal|  beed|8484895260|  pavanjad@gmail.com|        null|Teacher|Non-Technical|         +91|              +91 8484895260|\n",
      "|    smarth|    shete|mumbai|8756987845|    smarth@gmail.com|           1|    EEE|    Technical|         +91|              +91 8756987845|\n",
      "|   vaibhav|    shete|mumbai|9665281201|vaibhavshete@gmai...|           0|     IT|    Technical|         +91|              +91 9665281201|\n",
      "+----------+---------+------+----------+--------------------+------------+-------+-------------+------------+----------------------------+\n",
      "\n"
     ]
    }
   ],
   "source": [
    "final_contacts=country_code.select(\"*\", concat(col(\"country_code\"),lit(\" \"),col(\"mobile_no\")).alias(\"countery_code_with_mobile_no\"))\n",
    "final_contacts.show()"
   ]
  },
  {
   "cell_type": "code",
   "execution_count": 130,
   "metadata": {},
   "outputs": [
    {
     "name": "stderr",
     "output_type": "stream",
     "text": [
      "[Stage 202:>                                                        (0 + 1) / 2]\r"
     ]
    },
    {
     "name": "stdout",
     "output_type": "stream",
     "text": [
      "+----------+---------+------+----------------------------+----------------------+------------+-------+-------------+\n",
      "|first_name|last_name|city  |countery_code_with_mobile_no|email                 |Is_mail_send|Stream |Type_of_strem|\n",
      "+----------+---------+------+----------------------------+----------------------+------------+-------+-------------+\n",
      "|shubham   |joshi    |pune  |+91 8484756892              |shubham@gmail.com     |null        |Law    |Non-Technical|\n",
      "|vipul     |shete    |beed  |+91 8484891290              |vipulshete@gmail.com  |1           |Mech   |Technical    |\n",
      "|smarth    |shete    |mumbai|+91 8484892448              |smarth@gmail.com      |1           |EEE    |Technical    |\n",
      "|pavan     |rasal    |beed  |+91 8484895260              |pavanjad@gmail.com    |null        |Teacher|Non-Technical|\n",
      "|smarth    |shete    |mumbai|+91 8756987845              |smarth@gmail.com      |1           |EEE    |Technical    |\n",
      "|vaibhav   |shete    |mumbai|+91 9665281201              |vaibhavshete@gmail.com|0           |IT     |Technical    |\n",
      "+----------+---------+------+----------------------------+----------------------+------------+-------+-------------+\n",
      "\n"
     ]
    },
    {
     "name": "stderr",
     "output_type": "stream",
     "text": [
      "                                                                                \r"
     ]
    }
   ],
   "source": [
    "contacts = final_contacts.select('first_name', 'last_name', 'city', 'countery_code_with_mobile_no', 'email', \"Is_mail_send\", \"Stream\", \"Type_of_strem\")\n",
    "contacts.show(truncate=False)"
   ]
  },
  {
   "cell_type": "code",
   "execution_count": 131,
   "metadata": {},
   "outputs": [
    {
     "name": "stderr",
     "output_type": "stream",
     "text": [
      "[Stage 216:>                                                        (0 + 1) / 1]\r"
     ]
    },
    {
     "name": "stdout",
     "output_type": "stream",
     "text": [
      "+------------------------------------+----------+---------+------+----------------------------+----------------------+\n",
      "|id                                  |first_name|last_name|city  |countery_code_with_mobile_no|email                 |\n",
      "+------------------------------------+----------+---------+------+----------------------------+----------------------+\n",
      "|c5cbaa6d-7dd8-4c76-9713-264623264158|shubham   |joshi    |pune  |+91 8484756892              |shubham@gmail.com     |\n",
      "|049068a4-cec5-4a87-8104-25e07cf2416e|vipul     |shete    |beed  |+91 8484891290              |vipulshete@gmail.com  |\n",
      "|c60ccb4a-3fbe-475f-a40d-f17959c38766|smarth    |shete    |mumbai|+91 8484892448              |smarth@gmail.com      |\n",
      "|3c663512-8b1a-454e-8a04-662dc7ca09a8|pavan     |rasal    |beed  |+91 8484895260              |pavanjad@gmail.com    |\n",
      "|e399da24-1e97-48a3-97c7-78cfda67cf1a|smarth    |shete    |mumbai|+91 8756987845              |smarth@gmail.com      |\n",
      "|254d5c7d-0cd2-4a10-a6b4-861e8862bfa2|vaibhav   |shete    |mumbai|+91 9665281201              |vaibhavshete@gmail.com|\n",
      "+------------------------------------+----------+---------+------+----------------------------+----------------------+\n",
      "\n"
     ]
    },
    {
     "name": "stderr",
     "output_type": "stream",
     "text": [
      "                                                                                \r"
     ]
    }
   ],
   "source": [
    "try:\n",
    "    id = []\n",
    "    for i in range(contacts.count()):\n",
    "        id.append(str(uuid.uuid4()))\n",
    "    contact_df = contacts.repartition(1).withColumn('id',f.udf(lambda x: id[x])(f.monotonically_increasing_id()))\n",
    "\n",
    "    contact_df = contact_df.select('id','first_name','last_name','city','countery_code_with_mobile_no','email')\n",
    "    contact_df.show(truncate=False)\n",
    "except Exception as e:\n",
    "    print(e)"
   ]
  },
  {
   "attachments": {},
   "cell_type": "markdown",
   "metadata": {},
   "source": [
    "## load table to mysql database"
   ]
  },
  {
   "cell_type": "code",
   "execution_count": 42,
   "metadata": {},
   "outputs": [],
   "source": [
    "contact_df.write.format('jdbc').options(\n",
    "      url='jdbc:mysql://localhost/my_first_db',\n",
    "      driver='com.mysql.jdbc.Driver',\n",
    "      dbtable='contacts',\n",
    "      user='root',\n",
    "      password='Vaibhav@123').mode('append').save()"
   ]
  }
 ],
 "metadata": {
  "kernelspec": {
   "display_name": "Python 3",
   "language": "python",
   "name": "python3"
  },
  "language_info": {
   "codemirror_mode": {
    "name": "ipython",
    "version": 3
   },
   "file_extension": ".py",
   "mimetype": "text/x-python",
   "name": "python",
   "nbconvert_exporter": "python",
   "pygments_lexer": "ipython3",
   "version": "3.8.10"
  },
  "orig_nbformat": 4,
  "vscode": {
   "interpreter": {
    "hash": "e7370f93d1d0cde622a1f8e1c04877d8463912d04d973331ad4851f04de6915a"
   }
  }
 },
 "nbformat": 4,
 "nbformat_minor": 2
}
