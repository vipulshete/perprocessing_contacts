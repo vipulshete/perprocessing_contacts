{
 "cells": [
  {
   "cell_type": "code",
   "execution_count": null,
   "metadata": {},
   "outputs": [],
   "source": []
  },
  {
   "cell_type": "code",
   "execution_count": 23,
   "metadata": {},
   "outputs": [],
   "source": [
    "import pyspark\n",
    "from pyspark.sql import SparkSession\n",
    "from pyspark.sql import Row"
   ]
  },
  {
   "cell_type": "code",
   "execution_count": 24,
   "metadata": {},
   "outputs": [],
   "source": [
    "\n",
    "spark = SparkSession.builder.config(\"spark.jars\", \"/home/hdoop_new/CFP/AWS/CFP/aws/contact/MySqlJdbcDriver/mysql-connector-j-8.0.31.jar\") \\\n",
    "    .master(\"local\").appName(\"PySpark_MySQL_test1\").getOrCreate()"
   ]
  },
  {
   "cell_type": "code",
   "execution_count": 9,
   "metadata": {},
   "outputs": [],
   "source": [
    "studentDf = spark.createDataFrame([\n",
    "\tRow(id=1,name='vijay',marks=67),\n",
    "\tRow(id=2,name='Ajay',marks=88),\n",
    "\tRow(id=3,name='jay',marks=79),\n",
    "\tRow(id=4,name='vinay',marks=67),\n",
    "])"
   ]
  },
  {
   "cell_type": "code",
   "execution_count": 10,
   "metadata": {},
   "outputs": [
    {
     "name": "stderr",
     "output_type": "stream",
     "text": [
      "[Stage 2:>                                                          (0 + 1) / 1]\r"
     ]
    },
    {
     "name": "stdout",
     "output_type": "stream",
     "text": [
      "+---+-----+-----+\n",
      "| id| name|marks|\n",
      "+---+-----+-----+\n",
      "|  1|vijay|   67|\n",
      "|  2| Ajay|   88|\n",
      "|  3|  jay|   79|\n",
      "|  4|vinay|   67|\n",
      "+---+-----+-----+\n",
      "\n"
     ]
    },
    {
     "name": "stderr",
     "output_type": "stream",
     "text": [
      "                                                                                \r"
     ]
    }
   ],
   "source": [
    "studentDf.show()"
   ]
  },
  {
   "cell_type": "code",
   "execution_count": null,
   "metadata": {},
   "outputs": [],
   "source": [
    "# create table my_first_db.student(\n",
    "# id int,\n",
    "# name text,\n",
    "# marks int);"
   ]
  },
  {
   "cell_type": "code",
   "execution_count": 12,
   "metadata": {},
   "outputs": [],
   "source": [
    "studentDf.write.format('jdbc').options(\n",
    "      url='jdbc:mysql://localhost/my_first_db',\n",
    "      driver='com.mysql.jdbc.Driver',\n",
    "      dbtable='student',\n",
    "      user='root',\n",
    "      password='Vaibhav@123').mode('append').save()"
   ]
  },
  {
   "cell_type": "code",
   "execution_count": null,
   "metadata": {},
   "outputs": [],
   "source": []
  },
  {
   "cell_type": "code",
   "execution_count": 27,
   "metadata": {},
   "outputs": [],
   "source": [
    "data = spark.read.csv('contacts.csv', header=True)"
   ]
  },
  {
   "cell_type": "code",
   "execution_count": 28,
   "metadata": {},
   "outputs": [
    {
     "name": "stdout",
     "output_type": "stream",
     "text": [
      "+----------+---------+------+-----------+----------+--------------------+\n",
      "|first_name|last_name|  city|  mobile_no|  phone_no|               email|\n",
      "+----------+---------+------+-----------+----------+--------------------+\n",
      "|     vipul|    shete|  beed| 8484891290|7020852447|vipulshete@gmail.com|\n",
      "|   vaibhav|    shete|mumbai|70208524447|9665281201|vaibhavshete@gmai...|\n",
      "|       ram|   shinde|  beed|     569856|      null| ramshinde@gmail.com|\n",
      "|   shubham|    joshi|  pune| 1234567892|8484756892|   shubham@gmail.com|\n",
      "|   kailash|   jadhav|mumbai|       null|    598564|  pavanjad@gmail.com|\n",
      "|     pavan|    rasal|  beed| 8484895260|4311222265|  pavanjad@gmail.com|\n",
      "|      lisa|     dash|mumbai|    8569877|      null|  lisadash@gmail.com|\n",
      "|   tukaram|   shinde|  pune|       null|8484891290|   tukaram@gmail.com|\n",
      "|    smarth|    shete|mumbai|87569878458|8484892448|    smarth@gmail.com|\n",
      "|     rahul|    shete|  pune|   56987568|      null|     rahul@gmail.com|\n",
      "|    vishal|    shete|  beed|       null|      null|    vishal@gmail.com|\n",
      "+----------+---------+------+-----------+----------+--------------------+\n",
      "\n"
     ]
    }
   ],
   "source": [
    "data.show()"
   ]
  },
  {
   "cell_type": "code",
   "execution_count": 30,
   "metadata": {},
   "outputs": [],
   "source": [
    "import pandas as pd\n",
    "data1 = pd.read_csv(\"contacts.csv\") "
   ]
  },
  {
   "cell_type": "code",
   "execution_count": 31,
   "metadata": {},
   "outputs": [
    {
     "name": "stdout",
     "output_type": "stream",
     "text": [
      "CREATE TABLE \"contact\" (\n",
      "\"index\" INTEGER,\n",
      "  \"first_name\" TEXT,\n",
      "  \"last_name\" TEXT,\n",
      "  \"city\" TEXT,\n",
      "  \"mobile_no\" REAL,\n",
      "  \"phone_no\" REAL,\n",
      "  \"email\" TEXT\n",
      ")\n"
     ]
    }
   ],
   "source": [
    "data_schema = pd.io.sql.get_schema(data1.reset_index(), 'contact')\n",
    "print(''.join(data_schema))"
   ]
  },
  {
   "cell_type": "code",
   "execution_count": 29,
   "metadata": {},
   "outputs": [],
   "source": [
    "data.write.format('jdbc').options(\n",
    "      url='jdbc:mysql://localhost/my_first_db',\n",
    "      driver='com.mysql.jdbc.Driver',\n",
    "      dbtable='contact12',\n",
    "      user='root',\n",
    "      password='Vaibhav@123').mode('append').save()"
   ]
  }
 ],
 "metadata": {
  "kernelspec": {
   "display_name": "Python 3",
   "language": "python",
   "name": "python3"
  },
  "language_info": {
   "codemirror_mode": {
    "name": "ipython",
    "version": 3
   },
   "file_extension": ".py",
   "mimetype": "text/x-python",
   "name": "python",
   "nbconvert_exporter": "python",
   "pygments_lexer": "ipython3",
   "version": "3.8.10 (default, Nov 14 2022, 12:59:47) \n[GCC 9.4.0]"
  },
  "orig_nbformat": 4,
  "vscode": {
   "interpreter": {
    "hash": "e7370f93d1d0cde622a1f8e1c04877d8463912d04d973331ad4851f04de6915a"
   }
  }
 },
 "nbformat": 4,
 "nbformat_minor": 2
}
